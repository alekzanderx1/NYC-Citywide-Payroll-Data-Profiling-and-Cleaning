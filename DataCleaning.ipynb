{
  "nbformat": 4,
  "nbformat_minor": 0,
  "metadata": {
    "colab": {
      "name": "DataCleaning.ipynb",
      "provenance": [],
      "collapsed_sections": [],
      "include_colab_link": true
    },
    "kernelspec": {
      "name": "python3",
      "display_name": "Python 3"
    },
    "language_info": {
      "name": "python"
    }
  },
  "cells": [
    {
      "cell_type": "markdown",
      "metadata": {
        "id": "view-in-github",
        "colab_type": "text"
      },
      "source": [
        "<a href=\"https://colab.research.google.com/github/alekzanderx1/NYC-Citywide-Payroll-Data-Profiling-and-Cleaning/blob/main/DataCleaning.ipynb\" target=\"_parent\"><img src=\"https://colab.research.google.com/assets/colab-badge.svg\" alt=\"Open In Colab\"/></a>"
      ]
    },
    {
      "cell_type": "markdown",
      "metadata": {
        "id": "7ULdQHYW-4Iy"
      },
      "source": [
        "## Load Data"
      ]
    },
    {
      "cell_type": "code",
      "metadata": {
        "colab": {
          "base_uri": "https://localhost:8080/"
        },
        "id": "luM5fJlaxcKC",
        "outputId": "26afa6bc-4359-44b2-f5c7-dab4014b2540"
      },
      "source": [
        "pip install openclean"
      ],
      "execution_count": 7,
      "outputs": [
        {
          "output_type": "stream",
          "name": "stdout",
          "text": [
            "Requirement already satisfied: openclean in /usr/local/lib/python3.7/dist-packages (0.2.1)\n",
            "Requirement already satisfied: openclean-core==0.4.1 in /usr/local/lib/python3.7/dist-packages (from openclean) (0.4.1)\n",
            "Requirement already satisfied: jsonschema>=3.2.0 in /usr/local/lib/python3.7/dist-packages (from openclean-core==0.4.1->openclean) (4.2.1)\n",
            "Requirement already satisfied: jellyfish in /usr/local/lib/python3.7/dist-packages (from openclean-core==0.4.1->openclean) (0.8.9)\n",
            "Requirement already satisfied: future in /usr/local/lib/python3.7/dist-packages (from openclean-core==0.4.1->openclean) (0.16.0)\n",
            "Requirement already satisfied: flowserv-core>=0.8.0 in /usr/local/lib/python3.7/dist-packages (from openclean-core==0.4.1->openclean) (0.9.2)\n",
            "Requirement already satisfied: refdata>=0.2.0 in /usr/local/lib/python3.7/dist-packages (from openclean-core==0.4.1->openclean) (0.2.0)\n",
            "Requirement already satisfied: scikit-learn in /usr/local/lib/python3.7/dist-packages (from openclean-core==0.4.1->openclean) (1.0.1)\n",
            "Requirement already satisfied: scipy in /usr/local/lib/python3.7/dist-packages (from openclean-core==0.4.1->openclean) (1.4.1)\n",
            "Requirement already satisfied: appdirs>=1.4.4 in /usr/local/lib/python3.7/dist-packages (from openclean-core==0.4.1->openclean) (1.4.4)\n",
            "Requirement already satisfied: requests in /usr/local/lib/python3.7/dist-packages (from openclean-core==0.4.1->openclean) (2.23.0)\n",
            "Requirement already satisfied: pandas>=1.0.0 in /usr/local/lib/python3.7/dist-packages (from openclean-core==0.4.1->openclean) (1.1.5)\n",
            "Requirement already satisfied: histore>=0.4.0 in /usr/local/lib/python3.7/dist-packages (from openclean-core==0.4.1->openclean) (0.4.1)\n",
            "Requirement already satisfied: dill in /usr/local/lib/python3.7/dist-packages (from openclean-core==0.4.1->openclean) (0.3.4)\n",
            "Requirement already satisfied: python-dateutil in /usr/local/lib/python3.7/dist-packages (from openclean-core==0.4.1->openclean) (2.8.2)\n",
            "Requirement already satisfied: paramiko in /usr/local/lib/python3.7/dist-packages (from flowserv-core>=0.8.0->openclean-core==0.4.1->openclean) (2.8.0)\n",
            "Requirement already satisfied: pyyaml>=5.1 in /usr/local/lib/python3.7/dist-packages (from flowserv-core>=0.8.0->openclean-core==0.4.1->openclean) (5.4.1)\n",
            "Requirement already satisfied: pyyaml-include in /usr/local/lib/python3.7/dist-packages (from flowserv-core>=0.8.0->openclean-core==0.4.1->openclean) (1.2.post2)\n",
            "Requirement already satisfied: gitpython in /usr/local/lib/python3.7/dist-packages (from flowserv-core>=0.8.0->openclean-core==0.4.1->openclean) (3.1.24)\n",
            "Requirement already satisfied: Click in /usr/local/lib/python3.7/dist-packages (from flowserv-core>=0.8.0->openclean-core==0.4.1->openclean) (7.1.2)\n",
            "Requirement already satisfied: passlib in /usr/local/lib/python3.7/dist-packages (from flowserv-core>=0.8.0->openclean-core==0.4.1->openclean) (1.7.4)\n",
            "Requirement already satisfied: SQLAlchemy>=1.3.18 in /usr/local/lib/python3.7/dist-packages (from flowserv-core>=0.8.0->openclean-core==0.4.1->openclean) (1.4.27)\n",
            "Requirement already satisfied: psutil in /usr/local/lib/python3.7/dist-packages (from histore>=0.4.0->openclean-core==0.4.1->openclean) (5.4.8)\n",
            "Requirement already satisfied: importlib-metadata in /usr/local/lib/python3.7/dist-packages (from jsonschema>=3.2.0->openclean-core==0.4.1->openclean) (4.8.2)\n",
            "Requirement already satisfied: attrs>=17.4.0 in /usr/local/lib/python3.7/dist-packages (from jsonschema>=3.2.0->openclean-core==0.4.1->openclean) (21.2.0)\n",
            "Requirement already satisfied: importlib-resources>=1.4.0 in /usr/local/lib/python3.7/dist-packages (from jsonschema>=3.2.0->openclean-core==0.4.1->openclean) (5.4.0)\n",
            "Requirement already satisfied: pyrsistent!=0.17.0,!=0.17.1,!=0.17.2,>=0.14.0 in /usr/local/lib/python3.7/dist-packages (from jsonschema>=3.2.0->openclean-core==0.4.1->openclean) (0.18.0)\n",
            "Requirement already satisfied: zipp>=3.1.0 in /usr/local/lib/python3.7/dist-packages (from importlib-resources>=1.4.0->jsonschema>=3.2.0->openclean-core==0.4.1->openclean) (3.6.0)\n",
            "Requirement already satisfied: numpy>=1.15.4 in /usr/local/lib/python3.7/dist-packages (from pandas>=1.0.0->openclean-core==0.4.1->openclean) (1.19.5)\n",
            "Requirement already satisfied: pytz>=2017.2 in /usr/local/lib/python3.7/dist-packages (from pandas>=1.0.0->openclean-core==0.4.1->openclean) (2018.9)\n",
            "Requirement already satisfied: six>=1.5 in /usr/local/lib/python3.7/dist-packages (from python-dateutil->openclean-core==0.4.1->openclean) (1.15.0)\n",
            "Requirement already satisfied: tableprint in /usr/local/lib/python3.7/dist-packages (from refdata>=0.2.0->openclean-core==0.4.1->openclean) (0.9.1)\n",
            "Requirement already satisfied: pooch>=1.3.0 in /usr/local/lib/python3.7/dist-packages (from refdata>=0.2.0->openclean-core==0.4.1->openclean) (1.5.2)\n",
            "Requirement already satisfied: datasize>=1.0.0 in /usr/local/lib/python3.7/dist-packages (from refdata>=0.2.0->openclean-core==0.4.1->openclean) (1.0.0)\n",
            "Requirement already satisfied: packaging in /usr/local/lib/python3.7/dist-packages (from pooch>=1.3.0->refdata>=0.2.0->openclean-core==0.4.1->openclean) (21.3)\n",
            "Requirement already satisfied: greenlet!=0.4.17 in /usr/local/lib/python3.7/dist-packages (from SQLAlchemy>=1.3.18->flowserv-core>=0.8.0->openclean-core==0.4.1->openclean) (1.1.2)\n",
            "Requirement already satisfied: gitdb<5,>=4.0.1 in /usr/local/lib/python3.7/dist-packages (from gitpython->flowserv-core>=0.8.0->openclean-core==0.4.1->openclean) (4.0.9)\n",
            "Requirement already satisfied: typing-extensions>=3.7.4.3 in /usr/local/lib/python3.7/dist-packages (from gitpython->flowserv-core>=0.8.0->openclean-core==0.4.1->openclean) (3.10.0.2)\n",
            "Requirement already satisfied: smmap<6,>=3.0.1 in /usr/local/lib/python3.7/dist-packages (from gitdb<5,>=4.0.1->gitpython->flowserv-core>=0.8.0->openclean-core==0.4.1->openclean) (5.0.0)\n",
            "Requirement already satisfied: pyparsing!=3.0.5,>=2.0.2 in /usr/local/lib/python3.7/dist-packages (from packaging->pooch>=1.3.0->refdata>=0.2.0->openclean-core==0.4.1->openclean) (3.0.6)\n",
            "Requirement already satisfied: bcrypt>=3.1.3 in /usr/local/lib/python3.7/dist-packages (from paramiko->flowserv-core>=0.8.0->openclean-core==0.4.1->openclean) (3.2.0)\n",
            "Requirement already satisfied: pynacl>=1.0.1 in /usr/local/lib/python3.7/dist-packages (from paramiko->flowserv-core>=0.8.0->openclean-core==0.4.1->openclean) (1.4.0)\n",
            "Requirement already satisfied: cryptography>=2.5 in /usr/local/lib/python3.7/dist-packages (from paramiko->flowserv-core>=0.8.0->openclean-core==0.4.1->openclean) (35.0.0)\n",
            "Requirement already satisfied: cffi>=1.1 in /usr/local/lib/python3.7/dist-packages (from bcrypt>=3.1.3->paramiko->flowserv-core>=0.8.0->openclean-core==0.4.1->openclean) (1.15.0)\n",
            "Requirement already satisfied: pycparser in /usr/local/lib/python3.7/dist-packages (from cffi>=1.1->bcrypt>=3.1.3->paramiko->flowserv-core>=0.8.0->openclean-core==0.4.1->openclean) (2.21)\n",
            "Requirement already satisfied: urllib3!=1.25.0,!=1.25.1,<1.26,>=1.21.1 in /usr/local/lib/python3.7/dist-packages (from requests->openclean-core==0.4.1->openclean) (1.24.3)\n",
            "Requirement already satisfied: certifi>=2017.4.17 in /usr/local/lib/python3.7/dist-packages (from requests->openclean-core==0.4.1->openclean) (2021.10.8)\n",
            "Requirement already satisfied: chardet<4,>=3.0.2 in /usr/local/lib/python3.7/dist-packages (from requests->openclean-core==0.4.1->openclean) (3.0.4)\n",
            "Requirement already satisfied: idna<3,>=2.5 in /usr/local/lib/python3.7/dist-packages (from requests->openclean-core==0.4.1->openclean) (2.10)\n",
            "Requirement already satisfied: threadpoolctl>=2.0.0 in /usr/local/lib/python3.7/dist-packages (from scikit-learn->openclean-core==0.4.1->openclean) (3.0.0)\n",
            "Requirement already satisfied: joblib>=0.11 in /usr/local/lib/python3.7/dist-packages (from scikit-learn->openclean-core==0.4.1->openclean) (1.1.0)\n",
            "Requirement already satisfied: wcwidth in /usr/local/lib/python3.7/dist-packages (from tableprint->refdata>=0.2.0->openclean-core==0.4.1->openclean) (0.2.5)\n"
          ]
        }
      ]
    },
    {
      "cell_type": "code",
      "metadata": {
        "id": "LyFed-HOxttr"
      },
      "source": [
        "from openclean.data.source.socrata import Socrata\n",
        "import gzip\n",
        "import os\n",
        "\n",
        "dataset = Socrata().dataset('k397-673e')"
      ],
      "execution_count": 22,
      "outputs": []
    },
    {
      "cell_type": "code",
      "metadata": {
        "id": "w2xP3Gcyx0-q"
      },
      "source": [
        "datafile = './k397-673e.tsv.gz'"
      ],
      "execution_count": 23,
      "outputs": []
    },
    {
      "cell_type": "code",
      "metadata": {
        "colab": {
          "base_uri": "https://localhost:8080/"
        },
        "id": "cTYC9th_x2xy",
        "outputId": "8d6d4388-c1f7-40fd-eb0f-80546c01fc67"
      },
      "source": [
        "if not os.path.isfile(datafile):\n",
        "    with gzip.open(datafile, 'wb') as f:\n",
        "        print('Downloading ...\\n')\n",
        "        dataset.write(f)"
      ],
      "execution_count": 24,
      "outputs": [
        {
          "output_type": "stream",
          "name": "stdout",
          "text": [
            "Downloading ...\n",
            "\n"
          ]
        }
      ]
    },
    {
      "cell_type": "code",
      "metadata": {
        "id": "CmR9DFPrzJtE"
      },
      "source": [
        "from openclean.pipeline import stream\n",
        "\n",
        "ds_full = stream(datafile)"
      ],
      "execution_count": 25,
      "outputs": []
    },
    {
      "cell_type": "code",
      "metadata": {
        "id": "iMmO0HWE4Qid",
        "colab": {
          "base_uri": "https://localhost:8080/"
        },
        "outputId": "0dd25ed6-767d-4d2c-a55e-785d54bcc3f4"
      },
      "source": [
        "ds_full.count()"
      ],
      "execution_count": 26,
      "outputs": [
        {
          "output_type": "execute_result",
          "data": {
            "text/plain": [
              "4496767"
            ]
          },
          "metadata": {},
          "execution_count": 26
        }
      ]
    },
    {
      "cell_type": "markdown",
      "metadata": {
        "id": "ed-ze092SX-R"
      },
      "source": [
        "## Removing unwanted columns"
      ]
    },
    {
      "cell_type": "markdown",
      "metadata": {
        "id": "MT-mdWP0SgvA"
      },
      "source": [
        "We are removing 'Payroll Number', 'First Name', 'Last Name', and 'Mid Init' because we will not be using them in our analysis going forwards."
      ]
    },
    {
      "cell_type": "code",
      "metadata": {
        "id": "aWsElQ0p3nrx"
      },
      "source": [
        "columns=[\n",
        "    'Fiscal Year',\n",
        "    'Agency Name',\n",
        "    'Agency Start Date',\n",
        "    'Work Location Borough',\n",
        "    'Title Description',\n",
        "    'Leave Status as of June 30',\n",
        "    'Base Salary',\n",
        "    'Pay Basis',\n",
        "    'Regular Hours',\n",
        "    'Regular Gross Paid',\n",
        "    'OT Hours',\n",
        "    'Total OT Paid',\n",
        "    'Total Other Pay'\n",
        "]\n",
        "ds_full = ds_full.select(columns)"
      ],
      "execution_count": 27,
      "outputs": []
    },
    {
      "cell_type": "code",
      "metadata": {
        "id": "3r0nfwOcx4Hz"
      },
      "source": [
        "from datetime import datetime\n",
        "from openclean.function.eval.base import Col\n",
        "from openclean.function.eval.datatype import Datetime\n",
        "from openclean.function.eval.logic import And\n",
        "from openclean.function.eval.null import IsNotEmpty\n",
        "from openclean.function.eval.domain import Lookup"
      ],
      "execution_count": 28,
      "outputs": []
    },
    {
      "cell_type": "code",
      "metadata": {
        "id": "NNOCEsOLybln"
      },
      "source": [
        "# convert to datafrane\n",
        "\n",
        "df = ds_full.to_df()"
      ],
      "execution_count": 29,
      "outputs": []
    },
    {
      "cell_type": "code",
      "metadata": {
        "id": "79DvrbOezDUu",
        "colab": {
          "base_uri": "https://localhost:8080/"
        },
        "outputId": "fac77032-4497-44df-fc33-c9a33357d69d"
      },
      "source": [
        "df.shape"
      ],
      "execution_count": 30,
      "outputs": [
        {
          "output_type": "execute_result",
          "data": {
            "text/plain": [
              "(4496767, 13)"
            ]
          },
          "metadata": {},
          "execution_count": 30
        }
      ]
    },
    {
      "cell_type": "markdown",
      "metadata": {
        "id": "jpz-G7mf-_Jy"
      },
      "source": [
        "## Clean Borough"
      ]
    },
    {
      "cell_type": "markdown",
      "metadata": {
        "id": "uIv-jLpYS2-L"
      },
      "source": [
        "We will be -\n",
        "1. Updating to uppercase\n",
        "2. Replacing empty string '' to UNSPECIFIED\n",
        "3. Filter on all borough names\n",
        "4. Rename 'RICHMOND' to 'STATEN ISLAND'"
      ]
    },
    {
      "cell_type": "code",
      "metadata": {
        "id": "wUXcEVMo5Ry3"
      },
      "source": [
        "from openclean.operator.transform.filter import delete\n"
      ],
      "execution_count": 31,
      "outputs": []
    },
    {
      "cell_type": "code",
      "metadata": {
        "id": "vgZ7EBnf5LYz",
        "colab": {
          "base_uri": "https://localhost:8080/"
        },
        "outputId": "fa616fe0-e869-471a-8ead-d13b4082be41"
      },
      "source": [
        "df.shape"
      ],
      "execution_count": 32,
      "outputs": [
        {
          "output_type": "execute_result",
          "data": {
            "text/plain": [
              "(4496767, 13)"
            ]
          },
          "metadata": {},
          "execution_count": 32
        }
      ]
    },
    {
      "cell_type": "code",
      "metadata": {
        "id": "ztDA1qUF5WNA"
      },
      "source": [
        "# Update to uppercase\n",
        "\n",
        "from openclean.operator.transform.update import update\n",
        "\n",
        "df = update(df, columns='Work Location Borough', func=str.upper)"
      ],
      "execution_count": 33,
      "outputs": []
    },
    {
      "cell_type": "code",
      "metadata": {
        "id": "nqDel68w58TK",
        "colab": {
          "base_uri": "https://localhost:8080/"
        },
        "outputId": "4a4c454d-5b3b-4548-d956-8fafb35a628e"
      },
      "source": [
        "df['Work Location Borough'].unique()"
      ],
      "execution_count": 34,
      "outputs": [
        {
          "output_type": "execute_result",
          "data": {
            "text/plain": [
              "array(['BROOKLYN', 'MANHATTAN', 'BRONX', 'RICHMOND', 'QUEENS',\n",
              "       'WASHINGTON DC', 'ULSTER', 'WESTCHESTER', 'OTHER', 'ALBANY',\n",
              "       'NASSAU', 'DELAWARE', 'SULLIVAN', '', 'ORANGE', 'SCHOHARIE',\n",
              "       'DUTCHESS', 'GREENE', 'PUTNAM'], dtype=object)"
            ]
          },
          "metadata": {},
          "execution_count": 34
        }
      ]
    },
    {
      "cell_type": "code",
      "metadata": {
        "id": "sszoKsVV6PMo"
      },
      "source": [
        "# Replace empty string '' with 'UNSPECIFIED'\n",
        "\n",
        "df=update(df, columns='Work Location Borough',func=lambda x: x if x != '' else 'UNSPECIFIED')"
      ],
      "execution_count": 35,
      "outputs": []
    },
    {
      "cell_type": "code",
      "metadata": {
        "id": "KUbXv4We7LuD",
        "colab": {
          "base_uri": "https://localhost:8080/"
        },
        "outputId": "c2c4da35-62c0-4a02-be3b-7d789fe26b1d"
      },
      "source": [
        "df['Work Location Borough'].unique()"
      ],
      "execution_count": 36,
      "outputs": [
        {
          "output_type": "execute_result",
          "data": {
            "text/plain": [
              "array(['BROOKLYN', 'MANHATTAN', 'BRONX', 'RICHMOND', 'QUEENS',\n",
              "       'WASHINGTON DC', 'ULSTER', 'WESTCHESTER', 'OTHER', 'ALBANY',\n",
              "       'NASSAU', 'DELAWARE', 'SULLIVAN', 'UNSPECIFIED', 'ORANGE',\n",
              "       'SCHOHARIE', 'DUTCHESS', 'GREENE', 'PUTNAM'], dtype=object)"
            ]
          },
          "metadata": {},
          "execution_count": 36
        }
      ]
    },
    {
      "cell_type": "code",
      "metadata": {
        "id": "-5WA3k6h_mza"
      },
      "source": [
        "# Keep just the 5 boroughs and 'UNSPECIFIED'\n",
        "\n",
        "df = df[(df['Work Location Borough'] == 'BROOKLYN') | \\\n",
        "        (df['Work Location Borough'] == 'MANHATTAN') | \\\n",
        "        (df['Work Location Borough'] == 'BRONX') | \\\n",
        "        (df['Work Location Borough'] == 'RICHMOND') | \\\n",
        "        (df['Work Location Borough'] == 'QUEENS') | \\\n",
        "        (df['Work Location Borough'] == 'UNSPECIFIED')]"
      ],
      "execution_count": 37,
      "outputs": []
    },
    {
      "cell_type": "code",
      "metadata": {
        "id": "8uUaVnyXAXCY",
        "colab": {
          "base_uri": "https://localhost:8080/"
        },
        "outputId": "be90ab16-ff8b-4625-ca96-a75945479a79"
      },
      "source": [
        "df['Work Location Borough'].unique()"
      ],
      "execution_count": 38,
      "outputs": [
        {
          "output_type": "execute_result",
          "data": {
            "text/plain": [
              "array(['BROOKLYN', 'MANHATTAN', 'BRONX', 'RICHMOND', 'QUEENS',\n",
              "       'UNSPECIFIED'], dtype=object)"
            ]
          },
          "metadata": {},
          "execution_count": 38
        }
      ]
    },
    {
      "cell_type": "code",
      "metadata": {
        "id": "sTgEXYfJBfVo",
        "colab": {
          "base_uri": "https://localhost:8080/"
        },
        "outputId": "4f475087-706e-41d2-daf8-b3f4408b9821"
      },
      "source": [
        "df.shape"
      ],
      "execution_count": 39,
      "outputs": [
        {
          "output_type": "execute_result",
          "data": {
            "text/plain": [
              "(4392154, 13)"
            ]
          },
          "metadata": {},
          "execution_count": 39
        }
      ]
    },
    {
      "cell_type": "markdown",
      "metadata": {
        "id": "aNUTJREkVZRR"
      },
      "source": [
        "In this column, there are 52,803 instances of 'RICHMOND'. For the purposes of clarity, we decided to manually rename these to 'STATEN ISLAND'"
      ]
    },
    {
      "cell_type": "code",
      "metadata": {
        "id": "CtvBxoxPVYhM",
        "colab": {
          "base_uri": "https://localhost:8080/"
        },
        "outputId": "a234bcc6-3ec2-4339-9c3a-a0395e8bf739"
      },
      "source": [
        "df[df['Work Location Borough'] == 'RICHMOND'].count"
      ],
      "execution_count": 40,
      "outputs": [
        {
          "output_type": "execute_result",
          "data": {
            "text/plain": [
              "<bound method DataFrame.count of         Fiscal Year  ... Total Other Pay\n",
              "741            2020  ...         1000.00\n",
              "759            2020  ...          375.00\n",
              "829            2020  ...            0.00\n",
              "966            2020  ...          375.00\n",
              "1038           2020  ...            0.00\n",
              "...             ...  ...             ...\n",
              "4495992        2021  ...           -4.59\n",
              "4496206        2021  ...         -377.24\n",
              "4496437        2021  ...        -4369.96\n",
              "4496607        2021  ...         4191.08\n",
              "4496616        2021  ...        -9100.90\n",
              "\n",
              "[53766 rows x 13 columns]>"
            ]
          },
          "metadata": {},
          "execution_count": 40
        }
      ]
    },
    {
      "cell_type": "code",
      "metadata": {
        "id": "diuaxkJjWOu0",
        "colab": {
          "base_uri": "https://localhost:8080/"
        },
        "outputId": "cd64ed7a-816e-4c7d-d788-456c00626fd6"
      },
      "source": [
        "df['Work Location Borough'].unique()"
      ],
      "execution_count": 41,
      "outputs": [
        {
          "output_type": "execute_result",
          "data": {
            "text/plain": [
              "array(['BROOKLYN', 'MANHATTAN', 'BRONX', 'RICHMOND', 'QUEENS',\n",
              "       'UNSPECIFIED'], dtype=object)"
            ]
          },
          "metadata": {},
          "execution_count": 41
        }
      ]
    },
    {
      "cell_type": "code",
      "metadata": {
        "id": "c5XXmHVKV00x"
      },
      "source": [
        "# Rename 'RICHMOND' to 'STATEN ISLAND'\n",
        "\n",
        "df = update(df, columns='Work Location Borough', func= lambda x : 'STATEN ISLAND' if x == 'RICHMOND' else x)"
      ],
      "execution_count": 42,
      "outputs": []
    },
    {
      "cell_type": "code",
      "metadata": {
        "id": "cUMvKGJzWWtj",
        "colab": {
          "base_uri": "https://localhost:8080/"
        },
        "outputId": "870536a6-3aa6-442f-f9b4-bd521ee28e6d"
      },
      "source": [
        "df['Work Location Borough'].unique()"
      ],
      "execution_count": 43,
      "outputs": [
        {
          "output_type": "execute_result",
          "data": {
            "text/plain": [
              "array(['BROOKLYN', 'MANHATTAN', 'BRONX', 'STATEN ISLAND', 'QUEENS',\n",
              "       'UNSPECIFIED'], dtype=object)"
            ]
          },
          "metadata": {},
          "execution_count": 43
        }
      ]
    },
    {
      "cell_type": "markdown",
      "metadata": {
        "id": "Y0WiVNd-TKE9"
      },
      "source": [
        "## Converting Columns to Appropriate Datatypes"
      ]
    },
    {
      "cell_type": "code",
      "metadata": {
        "id": "j3coN4lnG7nD"
      },
      "source": [
        "df = df.astype({\"Fiscal Year\" : int, \"Base Salary\": float, \"Regular Hours\": float, \"Regular Gross Paid\": float, \"OT Hours\": float, \"Total OT Paid\": float, \"Total Other Pay\": float})\n"
      ],
      "execution_count": 44,
      "outputs": []
    },
    {
      "cell_type": "code",
      "metadata": {
        "id": "rrOmoHeMJL2A",
        "colab": {
          "base_uri": "https://localhost:8080/"
        },
        "outputId": "651c6ed1-acaa-4053-9921-e6bc3f724ef9"
      },
      "source": [
        "df.info()"
      ],
      "execution_count": 45,
      "outputs": [
        {
          "output_type": "stream",
          "name": "stdout",
          "text": [
            "<class 'pandas.core.frame.DataFrame'>\n",
            "Int64Index: 4392154 entries, 0 to 4496766\n",
            "Data columns (total 13 columns):\n",
            " #   Column                      Dtype  \n",
            "---  ------                      -----  \n",
            " 0   Fiscal Year                 int64  \n",
            " 1   Agency Name                 object \n",
            " 2   Agency Start Date           object \n",
            " 3   Work Location Borough       object \n",
            " 4   Title Description           object \n",
            " 5   Leave Status as of June 30  object \n",
            " 6   Base Salary                 float64\n",
            " 7   Pay Basis                   object \n",
            " 8   Regular Hours               float64\n",
            " 9   Regular Gross Paid          float64\n",
            " 10  OT Hours                    float64\n",
            " 11  Total OT Paid               float64\n",
            " 12  Total Other Pay             float64\n",
            "dtypes: float64(6), int64(1), object(6)\n",
            "memory usage: 469.1+ MB\n"
          ]
        }
      ]
    },
    {
      "cell_type": "markdown",
      "metadata": {
        "id": "qIJri_ZrCAZ8"
      },
      "source": [
        "## Cleanup Negative Values from Numerical Columns"
      ]
    },
    {
      "cell_type": "code",
      "metadata": {
        "id": "gaho3aWaMOlQ",
        "colab": {
          "base_uri": "https://localhost:8080/",
          "height": 786
        },
        "outputId": "06685f56-d590-4208-b66a-48f71275f1b6"
      },
      "source": [
        "df[df['Regular Gross Paid'] < 0]"
      ],
      "execution_count": 46,
      "outputs": [
        {
          "output_type": "execute_result",
          "data": {
            "text/html": [
              "<div>\n",
              "<style scoped>\n",
              "    .dataframe tbody tr th:only-of-type {\n",
              "        vertical-align: middle;\n",
              "    }\n",
              "\n",
              "    .dataframe tbody tr th {\n",
              "        vertical-align: top;\n",
              "    }\n",
              "\n",
              "    .dataframe thead th {\n",
              "        text-align: right;\n",
              "    }\n",
              "</style>\n",
              "<table border=\"1\" class=\"dataframe\">\n",
              "  <thead>\n",
              "    <tr style=\"text-align: right;\">\n",
              "      <th></th>\n",
              "      <th>Fiscal Year</th>\n",
              "      <th>Agency Name</th>\n",
              "      <th>Agency Start Date</th>\n",
              "      <th>Work Location Borough</th>\n",
              "      <th>Title Description</th>\n",
              "      <th>Leave Status as of June 30</th>\n",
              "      <th>Base Salary</th>\n",
              "      <th>Pay Basis</th>\n",
              "      <th>Regular Hours</th>\n",
              "      <th>Regular Gross Paid</th>\n",
              "      <th>OT Hours</th>\n",
              "      <th>Total OT Paid</th>\n",
              "      <th>Total Other Pay</th>\n",
              "    </tr>\n",
              "  </thead>\n",
              "  <tbody>\n",
              "    <tr>\n",
              "      <th>2902</th>\n",
              "      <td>2020</td>\n",
              "      <td>LAW DEPARTMENT</td>\n",
              "      <td>12/08/2008</td>\n",
              "      <td>MANHATTAN</td>\n",
              "      <td>PARALEGAL AIDE</td>\n",
              "      <td>CEASED</td>\n",
              "      <td>49677.00</td>\n",
              "      <td>per Annum</td>\n",
              "      <td>0.0</td>\n",
              "      <td>-52.86</td>\n",
              "      <td>7.25</td>\n",
              "      <td>209.38</td>\n",
              "      <td>8.10</td>\n",
              "    </tr>\n",
              "    <tr>\n",
              "      <th>2903</th>\n",
              "      <td>2020</td>\n",
              "      <td>LAW DEPARTMENT</td>\n",
              "      <td>10/15/2017</td>\n",
              "      <td>MANHATTAN</td>\n",
              "      <td>CLAIM SPECIALIST</td>\n",
              "      <td>CEASED</td>\n",
              "      <td>40275.00</td>\n",
              "      <td>per Annum</td>\n",
              "      <td>0.0</td>\n",
              "      <td>-5.52</td>\n",
              "      <td>7.00</td>\n",
              "      <td>162.58</td>\n",
              "      <td>0.00</td>\n",
              "    </tr>\n",
              "    <tr>\n",
              "      <th>2907</th>\n",
              "      <td>2020</td>\n",
              "      <td>LAW DEPARTMENT</td>\n",
              "      <td>12/16/2013</td>\n",
              "      <td>MANHATTAN</td>\n",
              "      <td>CLAIM SPECIALIST</td>\n",
              "      <td>CEASED</td>\n",
              "      <td>44409.00</td>\n",
              "      <td>per Annum</td>\n",
              "      <td>0.0</td>\n",
              "      <td>-70.15</td>\n",
              "      <td>9.75</td>\n",
              "      <td>195.20</td>\n",
              "      <td>9.51</td>\n",
              "    </tr>\n",
              "    <tr>\n",
              "      <th>2916</th>\n",
              "      <td>2020</td>\n",
              "      <td>LAW DEPARTMENT</td>\n",
              "      <td>06/06/2016</td>\n",
              "      <td>BROOKLYN</td>\n",
              "      <td>CLERICAL ASSOCIATE</td>\n",
              "      <td>ON LEAVE</td>\n",
              "      <td>41848.00</td>\n",
              "      <td>per Annum</td>\n",
              "      <td>0.0</td>\n",
              "      <td>-0.01</td>\n",
              "      <td>3.00</td>\n",
              "      <td>56.18</td>\n",
              "      <td>0.00</td>\n",
              "    </tr>\n",
              "    <tr>\n",
              "      <th>2921</th>\n",
              "      <td>2020</td>\n",
              "      <td>LAW DEPARTMENT</td>\n",
              "      <td>10/22/2018</td>\n",
              "      <td>MANHATTAN</td>\n",
              "      <td>SENIOR STUDENT LEGAL SPECIALIST</td>\n",
              "      <td>CEASED</td>\n",
              "      <td>49157.00</td>\n",
              "      <td>per Annum</td>\n",
              "      <td>-70.0</td>\n",
              "      <td>-711.63</td>\n",
              "      <td>0.00</td>\n",
              "      <td>0.00</td>\n",
              "      <td>0.00</td>\n",
              "    </tr>\n",
              "    <tr>\n",
              "      <th>...</th>\n",
              "      <td>...</td>\n",
              "      <td>...</td>\n",
              "      <td>...</td>\n",
              "      <td>...</td>\n",
              "      <td>...</td>\n",
              "      <td>...</td>\n",
              "      <td>...</td>\n",
              "      <td>...</td>\n",
              "      <td>...</td>\n",
              "      <td>...</td>\n",
              "      <td>...</td>\n",
              "      <td>...</td>\n",
              "      <td>...</td>\n",
              "    </tr>\n",
              "    <tr>\n",
              "      <th>4496758</th>\n",
              "      <td>2021</td>\n",
              "      <td>DEPT OF ED HRLY SUPPORT STAFF</td>\n",
              "      <td>04/27/1999</td>\n",
              "      <td>MANHATTAN</td>\n",
              "      <td>F/T SCHOOL AIDE</td>\n",
              "      <td>CEASED</td>\n",
              "      <td>17.00</td>\n",
              "      <td>per Hour</td>\n",
              "      <td>0.0</td>\n",
              "      <td>-57256.00</td>\n",
              "      <td>0.00</td>\n",
              "      <td>0.00</td>\n",
              "      <td>5814.70</td>\n",
              "    </tr>\n",
              "    <tr>\n",
              "      <th>4496759</th>\n",
              "      <td>2021</td>\n",
              "      <td>DEPT OF ED PEDAGOGICAL</td>\n",
              "      <td>09/06/2005</td>\n",
              "      <td>MANHATTAN</td>\n",
              "      <td>ASSISTANT PRINCIPAL</td>\n",
              "      <td>ON LEAVE</td>\n",
              "      <td>130351.00</td>\n",
              "      <td>per Annum</td>\n",
              "      <td>0.0</td>\n",
              "      <td>-36364.44</td>\n",
              "      <td>0.00</td>\n",
              "      <td>0.00</td>\n",
              "      <td>-15369.52</td>\n",
              "    </tr>\n",
              "    <tr>\n",
              "      <th>4496760</th>\n",
              "      <td>2021</td>\n",
              "      <td>DEPT OF ED HRLY SUPPORT STAFF</td>\n",
              "      <td>09/02/1997</td>\n",
              "      <td>MANHATTAN</td>\n",
              "      <td>F/T SCHOOL AIDE</td>\n",
              "      <td>CEASED</td>\n",
              "      <td>17.04</td>\n",
              "      <td>per Hour</td>\n",
              "      <td>0.0</td>\n",
              "      <td>-58284.17</td>\n",
              "      <td>0.00</td>\n",
              "      <td>0.00</td>\n",
              "      <td>4347.24</td>\n",
              "    </tr>\n",
              "    <tr>\n",
              "      <th>4496763</th>\n",
              "      <td>2021</td>\n",
              "      <td>BRONX DISTRICT ATTORNEY</td>\n",
              "      <td>07/02/1990</td>\n",
              "      <td>BRONX</td>\n",
              "      <td>SPECIAL ASSISTANT TO THE DISTRICT ATTORNEY</td>\n",
              "      <td>CEASED</td>\n",
              "      <td>110000.00</td>\n",
              "      <td>per Annum</td>\n",
              "      <td>-70.0</td>\n",
              "      <td>-4207.65</td>\n",
              "      <td>0.00</td>\n",
              "      <td>0.00</td>\n",
              "      <td>-75440.00</td>\n",
              "    </tr>\n",
              "    <tr>\n",
              "      <th>4496766</th>\n",
              "      <td>2021</td>\n",
              "      <td>DEPARTMENT OF EDUCATION ADMIN</td>\n",
              "      <td>09/15/2013</td>\n",
              "      <td>MANHATTAN</td>\n",
              "      <td>ADMINISTRATIVE EDUCATION OFFICER</td>\n",
              "      <td>CEASED</td>\n",
              "      <td>143262.00</td>\n",
              "      <td>per Annum</td>\n",
              "      <td>0.0</td>\n",
              "      <td>-117989.06</td>\n",
              "      <td>0.00</td>\n",
              "      <td>0.00</td>\n",
              "      <td>0.00</td>\n",
              "    </tr>\n",
              "  </tbody>\n",
              "</table>\n",
              "<p>6498 rows × 13 columns</p>\n",
              "</div>"
            ],
            "text/plain": [
              "         Fiscal Year  ... Total Other Pay\n",
              "2902            2020  ...            8.10\n",
              "2903            2020  ...            0.00\n",
              "2907            2020  ...            9.51\n",
              "2916            2020  ...            0.00\n",
              "2921            2020  ...            0.00\n",
              "...              ...  ...             ...\n",
              "4496758         2021  ...         5814.70\n",
              "4496759         2021  ...       -15369.52\n",
              "4496760         2021  ...         4347.24\n",
              "4496763         2021  ...       -75440.00\n",
              "4496766         2021  ...            0.00\n",
              "\n",
              "[6498 rows x 13 columns]"
            ]
          },
          "metadata": {},
          "execution_count": 46
        }
      ]
    },
    {
      "cell_type": "code",
      "metadata": {
        "id": "yi-1r1wb_6FK",
        "colab": {
          "base_uri": "https://localhost:8080/",
          "height": 820
        },
        "outputId": "5772d96d-5b06-457b-d01c-5aff84e26f60"
      },
      "source": [
        "df[df['Total OT Paid'] < 0]"
      ],
      "execution_count": 47,
      "outputs": [
        {
          "output_type": "execute_result",
          "data": {
            "text/html": [
              "<div>\n",
              "<style scoped>\n",
              "    .dataframe tbody tr th:only-of-type {\n",
              "        vertical-align: middle;\n",
              "    }\n",
              "\n",
              "    .dataframe tbody tr th {\n",
              "        vertical-align: top;\n",
              "    }\n",
              "\n",
              "    .dataframe thead th {\n",
              "        text-align: right;\n",
              "    }\n",
              "</style>\n",
              "<table border=\"1\" class=\"dataframe\">\n",
              "  <thead>\n",
              "    <tr style=\"text-align: right;\">\n",
              "      <th></th>\n",
              "      <th>Fiscal Year</th>\n",
              "      <th>Agency Name</th>\n",
              "      <th>Agency Start Date</th>\n",
              "      <th>Work Location Borough</th>\n",
              "      <th>Title Description</th>\n",
              "      <th>Leave Status as of June 30</th>\n",
              "      <th>Base Salary</th>\n",
              "      <th>Pay Basis</th>\n",
              "      <th>Regular Hours</th>\n",
              "      <th>Regular Gross Paid</th>\n",
              "      <th>OT Hours</th>\n",
              "      <th>Total OT Paid</th>\n",
              "      <th>Total Other Pay</th>\n",
              "    </tr>\n",
              "  </thead>\n",
              "  <tbody>\n",
              "    <tr>\n",
              "      <th>39015</th>\n",
              "      <td>2020</td>\n",
              "      <td>POLICE DEPARTMENT</td>\n",
              "      <td>02/05/1981</td>\n",
              "      <td>BRONX</td>\n",
              "      <td>PRINCIPAL ADMINISTRATIVE ASSOCIATE -  NON SUPVR</td>\n",
              "      <td>ACTIVE</td>\n",
              "      <td>64124.0</td>\n",
              "      <td>per Annum</td>\n",
              "      <td>1820.00</td>\n",
              "      <td>65275.97</td>\n",
              "      <td>-19.57</td>\n",
              "      <td>-1001.20</td>\n",
              "      <td>5882.60</td>\n",
              "    </tr>\n",
              "    <tr>\n",
              "      <th>49840</th>\n",
              "      <td>2020</td>\n",
              "      <td>POLICE DEPARTMENT</td>\n",
              "      <td>04/23/2007</td>\n",
              "      <td>MANHATTAN</td>\n",
              "      <td>POLICE ADMINISTRATIVE AIDE</td>\n",
              "      <td>ACTIVE</td>\n",
              "      <td>47385.0</td>\n",
              "      <td>per Annum</td>\n",
              "      <td>1820.00</td>\n",
              "      <td>45243.72</td>\n",
              "      <td>-1.00</td>\n",
              "      <td>-24.93</td>\n",
              "      <td>6650.42</td>\n",
              "    </tr>\n",
              "    <tr>\n",
              "      <th>53568</th>\n",
              "      <td>2020</td>\n",
              "      <td>POLICE DEPARTMENT</td>\n",
              "      <td>09/27/2012</td>\n",
              "      <td>MANHATTAN</td>\n",
              "      <td>TRAFFIC ENFORCEMENT AGENT</td>\n",
              "      <td>ACTIVE</td>\n",
              "      <td>42377.0</td>\n",
              "      <td>per Annum</td>\n",
              "      <td>1929.50</td>\n",
              "      <td>41369.48</td>\n",
              "      <td>-2.00</td>\n",
              "      <td>-57.79</td>\n",
              "      <td>2238.91</td>\n",
              "    </tr>\n",
              "    <tr>\n",
              "      <th>55147</th>\n",
              "      <td>2020</td>\n",
              "      <td>POLICE DEPARTMENT</td>\n",
              "      <td>07/10/2002</td>\n",
              "      <td>MANHATTAN</td>\n",
              "      <td>POLICE ADMINISTRATIVE AIDE</td>\n",
              "      <td>ACTIVE</td>\n",
              "      <td>41988.0</td>\n",
              "      <td>per Annum</td>\n",
              "      <td>1638.00</td>\n",
              "      <td>33179.40</td>\n",
              "      <td>-1.00</td>\n",
              "      <td>-25.01</td>\n",
              "      <td>4695.83</td>\n",
              "    </tr>\n",
              "    <tr>\n",
              "      <th>55990</th>\n",
              "      <td>2020</td>\n",
              "      <td>POLICE DEPARTMENT</td>\n",
              "      <td>11/14/2005</td>\n",
              "      <td>BROOKLYN</td>\n",
              "      <td>SCHOOL CROSSING GUARD</td>\n",
              "      <td>ACTIVE</td>\n",
              "      <td>34626.0</td>\n",
              "      <td>per Annum</td>\n",
              "      <td>2080.00</td>\n",
              "      <td>34094.19</td>\n",
              "      <td>-5.00</td>\n",
              "      <td>-42.67</td>\n",
              "      <td>758.92</td>\n",
              "    </tr>\n",
              "    <tr>\n",
              "      <th>...</th>\n",
              "      <td>...</td>\n",
              "      <td>...</td>\n",
              "      <td>...</td>\n",
              "      <td>...</td>\n",
              "      <td>...</td>\n",
              "      <td>...</td>\n",
              "      <td>...</td>\n",
              "      <td>...</td>\n",
              "      <td>...</td>\n",
              "      <td>...</td>\n",
              "      <td>...</td>\n",
              "      <td>...</td>\n",
              "      <td>...</td>\n",
              "    </tr>\n",
              "    <tr>\n",
              "      <th>4496544</th>\n",
              "      <td>2021</td>\n",
              "      <td>ADMIN FOR CHILDREN'S SVCS</td>\n",
              "      <td>09/23/2019</td>\n",
              "      <td>BROOKLYN</td>\n",
              "      <td>YOUTH DEVELOPMENT SPECIALIST</td>\n",
              "      <td>CEASED</td>\n",
              "      <td>45759.0</td>\n",
              "      <td>per Annum</td>\n",
              "      <td>-280.00</td>\n",
              "      <td>-6163.62</td>\n",
              "      <td>-8.00</td>\n",
              "      <td>-200.37</td>\n",
              "      <td>-52.60</td>\n",
              "    </tr>\n",
              "    <tr>\n",
              "      <th>4496573</th>\n",
              "      <td>2021</td>\n",
              "      <td>DEPARTMENT OF SANITATION</td>\n",
              "      <td>04/03/1989</td>\n",
              "      <td>BROOKLYN</td>\n",
              "      <td>SANITATION WORKER</td>\n",
              "      <td>CEASED</td>\n",
              "      <td>81034.0</td>\n",
              "      <td>per Annum</td>\n",
              "      <td>0.00</td>\n",
              "      <td>0.00</td>\n",
              "      <td>-2.00</td>\n",
              "      <td>-39.09</td>\n",
              "      <td>-7504.64</td>\n",
              "    </tr>\n",
              "    <tr>\n",
              "      <th>4496634</th>\n",
              "      <td>2021</td>\n",
              "      <td>ADMIN FOR CHILDREN'S SVCS</td>\n",
              "      <td>02/25/2019</td>\n",
              "      <td>BROOKLYN</td>\n",
              "      <td>YOUTH DEVELOPMENT SPECIALIST</td>\n",
              "      <td>CEASED</td>\n",
              "      <td>49318.0</td>\n",
              "      <td>per Annum</td>\n",
              "      <td>-420.00</td>\n",
              "      <td>-10287.97</td>\n",
              "      <td>-24.50</td>\n",
              "      <td>-755.83</td>\n",
              "      <td>-21.87</td>\n",
              "    </tr>\n",
              "    <tr>\n",
              "      <th>4496732</th>\n",
              "      <td>2021</td>\n",
              "      <td>DEPARTMENT OF SANITATION</td>\n",
              "      <td>05/03/1982</td>\n",
              "      <td>BROOKLYN</td>\n",
              "      <td>PRINCIPAL ADMINISTRATIVE ASSOCIATE -  NON SUPVR</td>\n",
              "      <td>CEASED</td>\n",
              "      <td>53082.0</td>\n",
              "      <td>per Annum</td>\n",
              "      <td>0.00</td>\n",
              "      <td>-2264.19</td>\n",
              "      <td>0.00</td>\n",
              "      <td>-730.47</td>\n",
              "      <td>-24140.37</td>\n",
              "    </tr>\n",
              "    <tr>\n",
              "      <th>4496739</th>\n",
              "      <td>2021</td>\n",
              "      <td>FIRE DEPARTMENT</td>\n",
              "      <td>09/14/1987</td>\n",
              "      <td>BROOKLYN</td>\n",
              "      <td>FIREFIGHTER</td>\n",
              "      <td>CEASED</td>\n",
              "      <td>85292.0</td>\n",
              "      <td>per Annum</td>\n",
              "      <td>-5.72</td>\n",
              "      <td>-233.05</td>\n",
              "      <td>-132.00</td>\n",
              "      <td>-5022.29</td>\n",
              "      <td>-23835.73</td>\n",
              "    </tr>\n",
              "  </tbody>\n",
              "</table>\n",
              "<p>1693 rows × 13 columns</p>\n",
              "</div>"
            ],
            "text/plain": [
              "         Fiscal Year                Agency Name  ... Total OT Paid Total Other Pay\n",
              "39015           2020          POLICE DEPARTMENT  ...      -1001.20         5882.60\n",
              "49840           2020          POLICE DEPARTMENT  ...        -24.93         6650.42\n",
              "53568           2020          POLICE DEPARTMENT  ...        -57.79         2238.91\n",
              "55147           2020          POLICE DEPARTMENT  ...        -25.01         4695.83\n",
              "55990           2020          POLICE DEPARTMENT  ...        -42.67          758.92\n",
              "...              ...                        ...  ...           ...             ...\n",
              "4496544         2021  ADMIN FOR CHILDREN'S SVCS  ...       -200.37          -52.60\n",
              "4496573         2021   DEPARTMENT OF SANITATION  ...        -39.09        -7504.64\n",
              "4496634         2021  ADMIN FOR CHILDREN'S SVCS  ...       -755.83          -21.87\n",
              "4496732         2021   DEPARTMENT OF SANITATION  ...       -730.47       -24140.37\n",
              "4496739         2021            FIRE DEPARTMENT  ...      -5022.29       -23835.73\n",
              "\n",
              "[1693 rows x 13 columns]"
            ]
          },
          "metadata": {},
          "execution_count": 47
        }
      ]
    },
    {
      "cell_type": "code",
      "metadata": {
        "id": "ztNT6qu-ABp3",
        "colab": {
          "base_uri": "https://localhost:8080/",
          "height": 786
        },
        "outputId": "ced3052b-f8a8-4e06-8030-f8765d304af5"
      },
      "source": [
        "df[df['Total Other Pay'] < 0]"
      ],
      "execution_count": 48,
      "outputs": [
        {
          "output_type": "execute_result",
          "data": {
            "text/html": [
              "<div>\n",
              "<style scoped>\n",
              "    .dataframe tbody tr th:only-of-type {\n",
              "        vertical-align: middle;\n",
              "    }\n",
              "\n",
              "    .dataframe tbody tr th {\n",
              "        vertical-align: top;\n",
              "    }\n",
              "\n",
              "    .dataframe thead th {\n",
              "        text-align: right;\n",
              "    }\n",
              "</style>\n",
              "<table border=\"1\" class=\"dataframe\">\n",
              "  <thead>\n",
              "    <tr style=\"text-align: right;\">\n",
              "      <th></th>\n",
              "      <th>Fiscal Year</th>\n",
              "      <th>Agency Name</th>\n",
              "      <th>Agency Start Date</th>\n",
              "      <th>Work Location Borough</th>\n",
              "      <th>Title Description</th>\n",
              "      <th>Leave Status as of June 30</th>\n",
              "      <th>Base Salary</th>\n",
              "      <th>Pay Basis</th>\n",
              "      <th>Regular Hours</th>\n",
              "      <th>Regular Gross Paid</th>\n",
              "      <th>OT Hours</th>\n",
              "      <th>Total OT Paid</th>\n",
              "      <th>Total Other Pay</th>\n",
              "    </tr>\n",
              "  </thead>\n",
              "  <tbody>\n",
              "    <tr>\n",
              "      <th>5</th>\n",
              "      <td>2020</td>\n",
              "      <td>OFFICE OF EMERGENCY MANAGEMENT</td>\n",
              "      <td>03/18/2019</td>\n",
              "      <td>BROOKLYN</td>\n",
              "      <td>EMERGENCY PREPAREDNESS MANAGER</td>\n",
              "      <td>ACTIVE</td>\n",
              "      <td>86005.0</td>\n",
              "      <td>per Annum</td>\n",
              "      <td>1820.0</td>\n",
              "      <td>87900.95</td>\n",
              "      <td>0.00</td>\n",
              "      <td>0.00</td>\n",
              "      <td>-3202.74</td>\n",
              "    </tr>\n",
              "    <tr>\n",
              "      <th>646</th>\n",
              "      <td>2020</td>\n",
              "      <td>TAX COMMISSION</td>\n",
              "      <td>12/05/2010</td>\n",
              "      <td>MANHATTAN</td>\n",
              "      <td>SECRETARY OF THE TAX COMMISSION</td>\n",
              "      <td>ACTIVE</td>\n",
              "      <td>63709.0</td>\n",
              "      <td>per Annum</td>\n",
              "      <td>1820.0</td>\n",
              "      <td>62824.90</td>\n",
              "      <td>0.00</td>\n",
              "      <td>0.00</td>\n",
              "      <td>-61.62</td>\n",
              "    </tr>\n",
              "    <tr>\n",
              "      <th>1259</th>\n",
              "      <td>2020</td>\n",
              "      <td>LAW DEPARTMENT</td>\n",
              "      <td>09/12/2011</td>\n",
              "      <td>MANHATTAN</td>\n",
              "      <td>ASSISTANT CORPORATION COUNSEL</td>\n",
              "      <td>ACTIVE</td>\n",
              "      <td>101077.0</td>\n",
              "      <td>per Annum</td>\n",
              "      <td>1820.0</td>\n",
              "      <td>98390.54</td>\n",
              "      <td>0.00</td>\n",
              "      <td>0.00</td>\n",
              "      <td>-3919.32</td>\n",
              "    </tr>\n",
              "    <tr>\n",
              "      <th>1395</th>\n",
              "      <td>2020</td>\n",
              "      <td>LAW DEPARTMENT</td>\n",
              "      <td>09/11/2000</td>\n",
              "      <td>MANHATTAN</td>\n",
              "      <td>ASSISTANT CORPORATION COUNSEL</td>\n",
              "      <td>ACTIVE</td>\n",
              "      <td>91616.0</td>\n",
              "      <td>per Annum</td>\n",
              "      <td>1820.0</td>\n",
              "      <td>88485.80</td>\n",
              "      <td>0.00</td>\n",
              "      <td>0.00</td>\n",
              "      <td>-1805.36</td>\n",
              "    </tr>\n",
              "    <tr>\n",
              "      <th>1539</th>\n",
              "      <td>2020</td>\n",
              "      <td>LAW DEPARTMENT</td>\n",
              "      <td>06/18/2001</td>\n",
              "      <td>BRONX</td>\n",
              "      <td>ASSOCIATE QUALITY ASSURANCE SPECIALIST</td>\n",
              "      <td>ACTIVE</td>\n",
              "      <td>77169.0</td>\n",
              "      <td>per Annum</td>\n",
              "      <td>1820.0</td>\n",
              "      <td>78040.71</td>\n",
              "      <td>1.25</td>\n",
              "      <td>186.24</td>\n",
              "      <td>-72.39</td>\n",
              "    </tr>\n",
              "    <tr>\n",
              "      <th>...</th>\n",
              "      <td>...</td>\n",
              "      <td>...</td>\n",
              "      <td>...</td>\n",
              "      <td>...</td>\n",
              "      <td>...</td>\n",
              "      <td>...</td>\n",
              "      <td>...</td>\n",
              "      <td>...</td>\n",
              "      <td>...</td>\n",
              "      <td>...</td>\n",
              "      <td>...</td>\n",
              "      <td>...</td>\n",
              "      <td>...</td>\n",
              "    </tr>\n",
              "    <tr>\n",
              "      <th>4496754</th>\n",
              "      <td>2021</td>\n",
              "      <td>DEPT OF ED PEDAGOGICAL</td>\n",
              "      <td>07/01/2005</td>\n",
              "      <td>MANHATTAN</td>\n",
              "      <td>PRINCIPAL</td>\n",
              "      <td>CEASED</td>\n",
              "      <td>148594.0</td>\n",
              "      <td>per Annum</td>\n",
              "      <td>0.0</td>\n",
              "      <td>0.00</td>\n",
              "      <td>0.00</td>\n",
              "      <td>0.00</td>\n",
              "      <td>-47536.59</td>\n",
              "    </tr>\n",
              "    <tr>\n",
              "      <th>4496755</th>\n",
              "      <td>2021</td>\n",
              "      <td>DEPT OF ED PEDAGOGICAL</td>\n",
              "      <td>07/01/2007</td>\n",
              "      <td>MANHATTAN</td>\n",
              "      <td>TEACHER SPECIAL EDUCATION</td>\n",
              "      <td>CEASED</td>\n",
              "      <td>98486.0</td>\n",
              "      <td>per Annum</td>\n",
              "      <td>0.0</td>\n",
              "      <td>-48341.88</td>\n",
              "      <td>0.00</td>\n",
              "      <td>0.00</td>\n",
              "      <td>-13.35</td>\n",
              "    </tr>\n",
              "    <tr>\n",
              "      <th>4496757</th>\n",
              "      <td>2021</td>\n",
              "      <td>DEPT OF ED PEDAGOGICAL</td>\n",
              "      <td>09/06/2016</td>\n",
              "      <td>MANHATTAN</td>\n",
              "      <td>TEACHER-REG SUB</td>\n",
              "      <td>CEASED</td>\n",
              "      <td>124909.0</td>\n",
              "      <td>per Annum</td>\n",
              "      <td>0.0</td>\n",
              "      <td>-51156.68</td>\n",
              "      <td>0.00</td>\n",
              "      <td>0.00</td>\n",
              "      <td>-16.93</td>\n",
              "    </tr>\n",
              "    <tr>\n",
              "      <th>4496759</th>\n",
              "      <td>2021</td>\n",
              "      <td>DEPT OF ED PEDAGOGICAL</td>\n",
              "      <td>09/06/2005</td>\n",
              "      <td>MANHATTAN</td>\n",
              "      <td>ASSISTANT PRINCIPAL</td>\n",
              "      <td>ON LEAVE</td>\n",
              "      <td>130351.0</td>\n",
              "      <td>per Annum</td>\n",
              "      <td>0.0</td>\n",
              "      <td>-36364.44</td>\n",
              "      <td>0.00</td>\n",
              "      <td>0.00</td>\n",
              "      <td>-15369.52</td>\n",
              "    </tr>\n",
              "    <tr>\n",
              "      <th>4496763</th>\n",
              "      <td>2021</td>\n",
              "      <td>BRONX DISTRICT ATTORNEY</td>\n",
              "      <td>07/02/1990</td>\n",
              "      <td>BRONX</td>\n",
              "      <td>SPECIAL ASSISTANT TO THE DISTRICT ATTORNEY</td>\n",
              "      <td>CEASED</td>\n",
              "      <td>110000.0</td>\n",
              "      <td>per Annum</td>\n",
              "      <td>-70.0</td>\n",
              "      <td>-4207.65</td>\n",
              "      <td>0.00</td>\n",
              "      <td>0.00</td>\n",
              "      <td>-75440.00</td>\n",
              "    </tr>\n",
              "  </tbody>\n",
              "</table>\n",
              "<p>45220 rows × 13 columns</p>\n",
              "</div>"
            ],
            "text/plain": [
              "         Fiscal Year  ... Total Other Pay\n",
              "5               2020  ...        -3202.74\n",
              "646             2020  ...          -61.62\n",
              "1259            2020  ...        -3919.32\n",
              "1395            2020  ...        -1805.36\n",
              "1539            2020  ...          -72.39\n",
              "...              ...  ...             ...\n",
              "4496754         2021  ...       -47536.59\n",
              "4496755         2021  ...          -13.35\n",
              "4496757         2021  ...          -16.93\n",
              "4496759         2021  ...       -15369.52\n",
              "4496763         2021  ...       -75440.00\n",
              "\n",
              "[45220 rows x 13 columns]"
            ]
          },
          "metadata": {},
          "execution_count": 48
        }
      ]
    },
    {
      "cell_type": "code",
      "metadata": {
        "id": "SHoOx_rPARNt",
        "colab": {
          "base_uri": "https://localhost:8080/",
          "height": 837
        },
        "outputId": "41230dfb-3a8f-4022-f972-1cad6511ff3f"
      },
      "source": [
        "df[df['Regular Hours'] < 0]"
      ],
      "execution_count": 49,
      "outputs": [
        {
          "output_type": "execute_result",
          "data": {
            "text/html": [
              "<div>\n",
              "<style scoped>\n",
              "    .dataframe tbody tr th:only-of-type {\n",
              "        vertical-align: middle;\n",
              "    }\n",
              "\n",
              "    .dataframe tbody tr th {\n",
              "        vertical-align: top;\n",
              "    }\n",
              "\n",
              "    .dataframe thead th {\n",
              "        text-align: right;\n",
              "    }\n",
              "</style>\n",
              "<table border=\"1\" class=\"dataframe\">\n",
              "  <thead>\n",
              "    <tr style=\"text-align: right;\">\n",
              "      <th></th>\n",
              "      <th>Fiscal Year</th>\n",
              "      <th>Agency Name</th>\n",
              "      <th>Agency Start Date</th>\n",
              "      <th>Work Location Borough</th>\n",
              "      <th>Title Description</th>\n",
              "      <th>Leave Status as of June 30</th>\n",
              "      <th>Base Salary</th>\n",
              "      <th>Pay Basis</th>\n",
              "      <th>Regular Hours</th>\n",
              "      <th>Regular Gross Paid</th>\n",
              "      <th>OT Hours</th>\n",
              "      <th>Total OT Paid</th>\n",
              "      <th>Total Other Pay</th>\n",
              "    </tr>\n",
              "  </thead>\n",
              "  <tbody>\n",
              "    <tr>\n",
              "      <th>2921</th>\n",
              "      <td>2020</td>\n",
              "      <td>LAW DEPARTMENT</td>\n",
              "      <td>10/22/2018</td>\n",
              "      <td>MANHATTAN</td>\n",
              "      <td>SENIOR STUDENT LEGAL SPECIALIST</td>\n",
              "      <td>CEASED</td>\n",
              "      <td>49157.0</td>\n",
              "      <td>per Annum</td>\n",
              "      <td>-70.00</td>\n",
              "      <td>-711.63</td>\n",
              "      <td>0.0</td>\n",
              "      <td>0.00</td>\n",
              "      <td>0.00</td>\n",
              "    </tr>\n",
              "    <tr>\n",
              "      <th>57539</th>\n",
              "      <td>2020</td>\n",
              "      <td>POLICE DEPARTMENT</td>\n",
              "      <td>12/20/1998</td>\n",
              "      <td>MANHATTAN</td>\n",
              "      <td>SCHOOL SAFETY AGENT</td>\n",
              "      <td>ON LEAVE</td>\n",
              "      <td>50207.0</td>\n",
              "      <td>per Annum</td>\n",
              "      <td>-63.00</td>\n",
              "      <td>24806.12</td>\n",
              "      <td>0.0</td>\n",
              "      <td>0.00</td>\n",
              "      <td>252.79</td>\n",
              "    </tr>\n",
              "    <tr>\n",
              "      <th>61546</th>\n",
              "      <td>2020</td>\n",
              "      <td>POLICE DEPARTMENT</td>\n",
              "      <td>12/20/1998</td>\n",
              "      <td>MANHATTAN</td>\n",
              "      <td>SCHOOL SAFETY AGENT</td>\n",
              "      <td>CEASED</td>\n",
              "      <td>48745.0</td>\n",
              "      <td>per Annum</td>\n",
              "      <td>-40.00</td>\n",
              "      <td>12910.02</td>\n",
              "      <td>0.0</td>\n",
              "      <td>122.13</td>\n",
              "      <td>133.64</td>\n",
              "    </tr>\n",
              "    <tr>\n",
              "      <th>61719</th>\n",
              "      <td>2020</td>\n",
              "      <td>POLICE DEPARTMENT</td>\n",
              "      <td>09/25/2006</td>\n",
              "      <td>MANHATTAN</td>\n",
              "      <td>SCHOOL SAFETY AGENT</td>\n",
              "      <td>CEASED</td>\n",
              "      <td>48745.0</td>\n",
              "      <td>per Annum</td>\n",
              "      <td>-45.00</td>\n",
              "      <td>10633.94</td>\n",
              "      <td>0.0</td>\n",
              "      <td>0.00</td>\n",
              "      <td>1804.54</td>\n",
              "    </tr>\n",
              "    <tr>\n",
              "      <th>61733</th>\n",
              "      <td>2020</td>\n",
              "      <td>POLICE DEPARTMENT</td>\n",
              "      <td>07/01/2002</td>\n",
              "      <td>MANHATTAN</td>\n",
              "      <td>SCHOOL SAFETY AGENT</td>\n",
              "      <td>CEASED</td>\n",
              "      <td>48745.0</td>\n",
              "      <td>per Annum</td>\n",
              "      <td>-72.00</td>\n",
              "      <td>12435.60</td>\n",
              "      <td>0.0</td>\n",
              "      <td>0.00</td>\n",
              "      <td>-45.45</td>\n",
              "    </tr>\n",
              "    <tr>\n",
              "      <th>...</th>\n",
              "      <td>...</td>\n",
              "      <td>...</td>\n",
              "      <td>...</td>\n",
              "      <td>...</td>\n",
              "      <td>...</td>\n",
              "      <td>...</td>\n",
              "      <td>...</td>\n",
              "      <td>...</td>\n",
              "      <td>...</td>\n",
              "      <td>...</td>\n",
              "      <td>...</td>\n",
              "      <td>...</td>\n",
              "      <td>...</td>\n",
              "    </tr>\n",
              "    <tr>\n",
              "      <th>4496703</th>\n",
              "      <td>2021</td>\n",
              "      <td>DEPARTMENT OF EDUCATION ADMIN</td>\n",
              "      <td>09/08/2015</td>\n",
              "      <td>BROOKLYN</td>\n",
              "      <td>PHYSICAL THERAPIST</td>\n",
              "      <td>ON LEAVE</td>\n",
              "      <td>78379.0</td>\n",
              "      <td>per Annum</td>\n",
              "      <td>-448.00</td>\n",
              "      <td>-20598.71</td>\n",
              "      <td>0.0</td>\n",
              "      <td>0.00</td>\n",
              "      <td>754.63</td>\n",
              "    </tr>\n",
              "    <tr>\n",
              "      <th>4496715</th>\n",
              "      <td>2021</td>\n",
              "      <td>DEPARTMENT OF CORRECTION</td>\n",
              "      <td>11/03/2005</td>\n",
              "      <td>QUEENS</td>\n",
              "      <td>CAPTAIN</td>\n",
              "      <td>CEASED</td>\n",
              "      <td>109360.0</td>\n",
              "      <td>per Annum</td>\n",
              "      <td>-56.00</td>\n",
              "      <td>-2927.19</td>\n",
              "      <td>0.0</td>\n",
              "      <td>0.00</td>\n",
              "      <td>-18831.37</td>\n",
              "    </tr>\n",
              "    <tr>\n",
              "      <th>4496729</th>\n",
              "      <td>2021</td>\n",
              "      <td>DEPARTMENT OF CORRECTION</td>\n",
              "      <td>05/16/2013</td>\n",
              "      <td>QUEENS</td>\n",
              "      <td>CORRECTION OFFICER</td>\n",
              "      <td>CEASED</td>\n",
              "      <td>89391.0</td>\n",
              "      <td>per Annum</td>\n",
              "      <td>-56.00</td>\n",
              "      <td>217.80</td>\n",
              "      <td>0.0</td>\n",
              "      <td>0.00</td>\n",
              "      <td>-26556.12</td>\n",
              "    </tr>\n",
              "    <tr>\n",
              "      <th>4496739</th>\n",
              "      <td>2021</td>\n",
              "      <td>FIRE DEPARTMENT</td>\n",
              "      <td>09/14/1987</td>\n",
              "      <td>BROOKLYN</td>\n",
              "      <td>FIREFIGHTER</td>\n",
              "      <td>CEASED</td>\n",
              "      <td>85292.0</td>\n",
              "      <td>per Annum</td>\n",
              "      <td>-5.72</td>\n",
              "      <td>-233.05</td>\n",
              "      <td>-132.0</td>\n",
              "      <td>-5022.29</td>\n",
              "      <td>-23835.73</td>\n",
              "    </tr>\n",
              "    <tr>\n",
              "      <th>4496763</th>\n",
              "      <td>2021</td>\n",
              "      <td>BRONX DISTRICT ATTORNEY</td>\n",
              "      <td>07/02/1990</td>\n",
              "      <td>BRONX</td>\n",
              "      <td>SPECIAL ASSISTANT TO THE DISTRICT ATTORNEY</td>\n",
              "      <td>CEASED</td>\n",
              "      <td>110000.0</td>\n",
              "      <td>per Annum</td>\n",
              "      <td>-70.00</td>\n",
              "      <td>-4207.65</td>\n",
              "      <td>0.0</td>\n",
              "      <td>0.00</td>\n",
              "      <td>-75440.00</td>\n",
              "    </tr>\n",
              "  </tbody>\n",
              "</table>\n",
              "<p>1934 rows × 13 columns</p>\n",
              "</div>"
            ],
            "text/plain": [
              "         Fiscal Year  ... Total Other Pay\n",
              "2921            2020  ...            0.00\n",
              "57539           2020  ...          252.79\n",
              "61546           2020  ...          133.64\n",
              "61719           2020  ...         1804.54\n",
              "61733           2020  ...          -45.45\n",
              "...              ...  ...             ...\n",
              "4496703         2021  ...          754.63\n",
              "4496715         2021  ...       -18831.37\n",
              "4496729         2021  ...       -26556.12\n",
              "4496739         2021  ...       -23835.73\n",
              "4496763         2021  ...       -75440.00\n",
              "\n",
              "[1934 rows x 13 columns]"
            ]
          },
          "metadata": {},
          "execution_count": 49
        }
      ]
    },
    {
      "cell_type": "code",
      "metadata": {
        "id": "BOYb3DovAU6O",
        "colab": {
          "base_uri": "https://localhost:8080/",
          "height": 803
        },
        "outputId": "3246c002-39dc-47b5-9c7f-6028ad70222b"
      },
      "source": [
        "df[df['OT Hours'] < 0]"
      ],
      "execution_count": 50,
      "outputs": [
        {
          "output_type": "execute_result",
          "data": {
            "text/html": [
              "<div>\n",
              "<style scoped>\n",
              "    .dataframe tbody tr th:only-of-type {\n",
              "        vertical-align: middle;\n",
              "    }\n",
              "\n",
              "    .dataframe tbody tr th {\n",
              "        vertical-align: top;\n",
              "    }\n",
              "\n",
              "    .dataframe thead th {\n",
              "        text-align: right;\n",
              "    }\n",
              "</style>\n",
              "<table border=\"1\" class=\"dataframe\">\n",
              "  <thead>\n",
              "    <tr style=\"text-align: right;\">\n",
              "      <th></th>\n",
              "      <th>Fiscal Year</th>\n",
              "      <th>Agency Name</th>\n",
              "      <th>Agency Start Date</th>\n",
              "      <th>Work Location Borough</th>\n",
              "      <th>Title Description</th>\n",
              "      <th>Leave Status as of June 30</th>\n",
              "      <th>Base Salary</th>\n",
              "      <th>Pay Basis</th>\n",
              "      <th>Regular Hours</th>\n",
              "      <th>Regular Gross Paid</th>\n",
              "      <th>OT Hours</th>\n",
              "      <th>Total OT Paid</th>\n",
              "      <th>Total Other Pay</th>\n",
              "    </tr>\n",
              "  </thead>\n",
              "  <tbody>\n",
              "    <tr>\n",
              "      <th>39015</th>\n",
              "      <td>2020</td>\n",
              "      <td>POLICE DEPARTMENT</td>\n",
              "      <td>02/05/1981</td>\n",
              "      <td>BRONX</td>\n",
              "      <td>PRINCIPAL ADMINISTRATIVE ASSOCIATE -  NON SUPVR</td>\n",
              "      <td>ACTIVE</td>\n",
              "      <td>64124.0</td>\n",
              "      <td>per Annum</td>\n",
              "      <td>1820.00</td>\n",
              "      <td>65275.97</td>\n",
              "      <td>-19.57</td>\n",
              "      <td>-1001.20</td>\n",
              "      <td>5882.60</td>\n",
              "    </tr>\n",
              "    <tr>\n",
              "      <th>49840</th>\n",
              "      <td>2020</td>\n",
              "      <td>POLICE DEPARTMENT</td>\n",
              "      <td>04/23/2007</td>\n",
              "      <td>MANHATTAN</td>\n",
              "      <td>POLICE ADMINISTRATIVE AIDE</td>\n",
              "      <td>ACTIVE</td>\n",
              "      <td>47385.0</td>\n",
              "      <td>per Annum</td>\n",
              "      <td>1820.00</td>\n",
              "      <td>45243.72</td>\n",
              "      <td>-1.00</td>\n",
              "      <td>-24.93</td>\n",
              "      <td>6650.42</td>\n",
              "    </tr>\n",
              "    <tr>\n",
              "      <th>53568</th>\n",
              "      <td>2020</td>\n",
              "      <td>POLICE DEPARTMENT</td>\n",
              "      <td>09/27/2012</td>\n",
              "      <td>MANHATTAN</td>\n",
              "      <td>TRAFFIC ENFORCEMENT AGENT</td>\n",
              "      <td>ACTIVE</td>\n",
              "      <td>42377.0</td>\n",
              "      <td>per Annum</td>\n",
              "      <td>1929.50</td>\n",
              "      <td>41369.48</td>\n",
              "      <td>-2.00</td>\n",
              "      <td>-57.79</td>\n",
              "      <td>2238.91</td>\n",
              "    </tr>\n",
              "    <tr>\n",
              "      <th>55147</th>\n",
              "      <td>2020</td>\n",
              "      <td>POLICE DEPARTMENT</td>\n",
              "      <td>07/10/2002</td>\n",
              "      <td>MANHATTAN</td>\n",
              "      <td>POLICE ADMINISTRATIVE AIDE</td>\n",
              "      <td>ACTIVE</td>\n",
              "      <td>41988.0</td>\n",
              "      <td>per Annum</td>\n",
              "      <td>1638.00</td>\n",
              "      <td>33179.40</td>\n",
              "      <td>-1.00</td>\n",
              "      <td>-25.01</td>\n",
              "      <td>4695.83</td>\n",
              "    </tr>\n",
              "    <tr>\n",
              "      <th>55990</th>\n",
              "      <td>2020</td>\n",
              "      <td>POLICE DEPARTMENT</td>\n",
              "      <td>11/14/2005</td>\n",
              "      <td>BROOKLYN</td>\n",
              "      <td>SCHOOL CROSSING GUARD</td>\n",
              "      <td>ACTIVE</td>\n",
              "      <td>34626.0</td>\n",
              "      <td>per Annum</td>\n",
              "      <td>2080.00</td>\n",
              "      <td>34094.19</td>\n",
              "      <td>-5.00</td>\n",
              "      <td>-42.67</td>\n",
              "      <td>758.92</td>\n",
              "    </tr>\n",
              "    <tr>\n",
              "      <th>...</th>\n",
              "      <td>...</td>\n",
              "      <td>...</td>\n",
              "      <td>...</td>\n",
              "      <td>...</td>\n",
              "      <td>...</td>\n",
              "      <td>...</td>\n",
              "      <td>...</td>\n",
              "      <td>...</td>\n",
              "      <td>...</td>\n",
              "      <td>...</td>\n",
              "      <td>...</td>\n",
              "      <td>...</td>\n",
              "      <td>...</td>\n",
              "    </tr>\n",
              "    <tr>\n",
              "      <th>4496522</th>\n",
              "      <td>2021</td>\n",
              "      <td>DEPARTMENT OF CORRECTION</td>\n",
              "      <td>01/16/1996</td>\n",
              "      <td>QUEENS</td>\n",
              "      <td>*COOK</td>\n",
              "      <td>ON LEAVE</td>\n",
              "      <td>41534.0</td>\n",
              "      <td>per Annum</td>\n",
              "      <td>400.00</td>\n",
              "      <td>-4602.61</td>\n",
              "      <td>-17.25</td>\n",
              "      <td>-543.13</td>\n",
              "      <td>-688.37</td>\n",
              "    </tr>\n",
              "    <tr>\n",
              "      <th>4496544</th>\n",
              "      <td>2021</td>\n",
              "      <td>ADMIN FOR CHILDREN'S SVCS</td>\n",
              "      <td>09/23/2019</td>\n",
              "      <td>BROOKLYN</td>\n",
              "      <td>YOUTH DEVELOPMENT SPECIALIST</td>\n",
              "      <td>CEASED</td>\n",
              "      <td>45759.0</td>\n",
              "      <td>per Annum</td>\n",
              "      <td>-280.00</td>\n",
              "      <td>-6163.62</td>\n",
              "      <td>-8.00</td>\n",
              "      <td>-200.37</td>\n",
              "      <td>-52.60</td>\n",
              "    </tr>\n",
              "    <tr>\n",
              "      <th>4496573</th>\n",
              "      <td>2021</td>\n",
              "      <td>DEPARTMENT OF SANITATION</td>\n",
              "      <td>04/03/1989</td>\n",
              "      <td>BROOKLYN</td>\n",
              "      <td>SANITATION WORKER</td>\n",
              "      <td>CEASED</td>\n",
              "      <td>81034.0</td>\n",
              "      <td>per Annum</td>\n",
              "      <td>0.00</td>\n",
              "      <td>0.00</td>\n",
              "      <td>-2.00</td>\n",
              "      <td>-39.09</td>\n",
              "      <td>-7504.64</td>\n",
              "    </tr>\n",
              "    <tr>\n",
              "      <th>4496634</th>\n",
              "      <td>2021</td>\n",
              "      <td>ADMIN FOR CHILDREN'S SVCS</td>\n",
              "      <td>02/25/2019</td>\n",
              "      <td>BROOKLYN</td>\n",
              "      <td>YOUTH DEVELOPMENT SPECIALIST</td>\n",
              "      <td>CEASED</td>\n",
              "      <td>49318.0</td>\n",
              "      <td>per Annum</td>\n",
              "      <td>-420.00</td>\n",
              "      <td>-10287.97</td>\n",
              "      <td>-24.50</td>\n",
              "      <td>-755.83</td>\n",
              "      <td>-21.87</td>\n",
              "    </tr>\n",
              "    <tr>\n",
              "      <th>4496739</th>\n",
              "      <td>2021</td>\n",
              "      <td>FIRE DEPARTMENT</td>\n",
              "      <td>09/14/1987</td>\n",
              "      <td>BROOKLYN</td>\n",
              "      <td>FIREFIGHTER</td>\n",
              "      <td>CEASED</td>\n",
              "      <td>85292.0</td>\n",
              "      <td>per Annum</td>\n",
              "      <td>-5.72</td>\n",
              "      <td>-233.05</td>\n",
              "      <td>-132.00</td>\n",
              "      <td>-5022.29</td>\n",
              "      <td>-23835.73</td>\n",
              "    </tr>\n",
              "  </tbody>\n",
              "</table>\n",
              "<p>301 rows × 13 columns</p>\n",
              "</div>"
            ],
            "text/plain": [
              "         Fiscal Year                Agency Name  ... Total OT Paid Total Other Pay\n",
              "39015           2020          POLICE DEPARTMENT  ...      -1001.20         5882.60\n",
              "49840           2020          POLICE DEPARTMENT  ...        -24.93         6650.42\n",
              "53568           2020          POLICE DEPARTMENT  ...        -57.79         2238.91\n",
              "55147           2020          POLICE DEPARTMENT  ...        -25.01         4695.83\n",
              "55990           2020          POLICE DEPARTMENT  ...        -42.67          758.92\n",
              "...              ...                        ...  ...           ...             ...\n",
              "4496522         2021   DEPARTMENT OF CORRECTION  ...       -543.13         -688.37\n",
              "4496544         2021  ADMIN FOR CHILDREN'S SVCS  ...       -200.37          -52.60\n",
              "4496573         2021   DEPARTMENT OF SANITATION  ...        -39.09        -7504.64\n",
              "4496634         2021  ADMIN FOR CHILDREN'S SVCS  ...       -755.83          -21.87\n",
              "4496739         2021            FIRE DEPARTMENT  ...      -5022.29       -23835.73\n",
              "\n",
              "[301 rows x 13 columns]"
            ]
          },
          "metadata": {},
          "execution_count": 50
        }
      ]
    },
    {
      "cell_type": "code",
      "metadata": {
        "id": "oDyAztd9AtKS"
      },
      "source": [
        "# removing rows with negative value in all numerical columns as they can cause issues with calculation\n",
        "df = df[(df['OT Hours'] >= 0) & \\\n",
        "        (df['Regular Gross Paid'] >= 0) & \\\n",
        "        (df['Total OT Paid'] >= 0) & \\\n",
        "        (df['Total Other Pay'] >= 0) & \\\n",
        "        (df['Regular Hours'] >= 0) ]"
      ],
      "execution_count": 51,
      "outputs": []
    },
    {
      "cell_type": "code",
      "metadata": {
        "id": "Dm5smgdwBo_v",
        "colab": {
          "base_uri": "https://localhost:8080/"
        },
        "outputId": "c3dac0d2-1a4b-4d89-e960-3c7e732e26ad"
      },
      "source": [
        "df.shape"
      ],
      "execution_count": 52,
      "outputs": [
        {
          "output_type": "execute_result",
          "data": {
            "text/plain": [
              "(4339278, 13)"
            ]
          },
          "metadata": {},
          "execution_count": 52
        }
      ]
    },
    {
      "cell_type": "markdown",
      "metadata": {
        "id": "t5mwWf5JMOxU"
      },
      "source": [
        "## Clean Agancy Start Date"
      ]
    },
    {
      "cell_type": "code",
      "metadata": {
        "id": "9NL4Az6CMVSc",
        "colab": {
          "base_uri": "https://localhost:8080/"
        },
        "outputId": "7ea97599-1410-42d9-de2d-6c45e52e38c7"
      },
      "source": [
        "df['Agency Start Date'].count()"
      ],
      "execution_count": 53,
      "outputs": [
        {
          "output_type": "execute_result",
          "data": {
            "text/plain": [
              "4339278"
            ]
          },
          "metadata": {},
          "execution_count": 53
        }
      ]
    },
    {
      "cell_type": "code",
      "metadata": {
        "id": "cjmVqSl6MXEu",
        "colab": {
          "base_uri": "https://localhost:8080/",
          "height": 686
        },
        "outputId": "130ff0a4-adca-49d7-b075-874ae1f68f4a"
      },
      "source": [
        "df [df['Agency Start Date'] == '12/31/9999']"
      ],
      "execution_count": 54,
      "outputs": [
        {
          "output_type": "execute_result",
          "data": {
            "text/html": [
              "<div>\n",
              "<style scoped>\n",
              "    .dataframe tbody tr th:only-of-type {\n",
              "        vertical-align: middle;\n",
              "    }\n",
              "\n",
              "    .dataframe tbody tr th {\n",
              "        vertical-align: top;\n",
              "    }\n",
              "\n",
              "    .dataframe thead th {\n",
              "        text-align: right;\n",
              "    }\n",
              "</style>\n",
              "<table border=\"1\" class=\"dataframe\">\n",
              "  <thead>\n",
              "    <tr style=\"text-align: right;\">\n",
              "      <th></th>\n",
              "      <th>Fiscal Year</th>\n",
              "      <th>Agency Name</th>\n",
              "      <th>Agency Start Date</th>\n",
              "      <th>Work Location Borough</th>\n",
              "      <th>Title Description</th>\n",
              "      <th>Leave Status as of June 30</th>\n",
              "      <th>Base Salary</th>\n",
              "      <th>Pay Basis</th>\n",
              "      <th>Regular Hours</th>\n",
              "      <th>Regular Gross Paid</th>\n",
              "      <th>OT Hours</th>\n",
              "      <th>Total OT Paid</th>\n",
              "      <th>Total Other Pay</th>\n",
              "    </tr>\n",
              "  </thead>\n",
              "  <tbody>\n",
              "    <tr>\n",
              "      <th>160553</th>\n",
              "      <td>2020</td>\n",
              "      <td>DEPT OF ED PEDAGOGICAL</td>\n",
              "      <td>12/31/9999</td>\n",
              "      <td>MANHATTAN</td>\n",
              "      <td>TEACHER SPECIAL EDUCATION</td>\n",
              "      <td>ACTIVE</td>\n",
              "      <td>124909.00</td>\n",
              "      <td>per Annum</td>\n",
              "      <td>0.0</td>\n",
              "      <td>122242.80</td>\n",
              "      <td>0.0</td>\n",
              "      <td>0.0</td>\n",
              "      <td>36229.15</td>\n",
              "    </tr>\n",
              "    <tr>\n",
              "      <th>167797</th>\n",
              "      <td>2020</td>\n",
              "      <td>DEPT OF ED PEDAGOGICAL</td>\n",
              "      <td>12/31/9999</td>\n",
              "      <td>MANHATTAN</td>\n",
              "      <td>TEACHER</td>\n",
              "      <td>ACTIVE</td>\n",
              "      <td>124909.00</td>\n",
              "      <td>per Annum</td>\n",
              "      <td>0.0</td>\n",
              "      <td>122242.80</td>\n",
              "      <td>0.0</td>\n",
              "      <td>0.0</td>\n",
              "      <td>13012.34</td>\n",
              "    </tr>\n",
              "    <tr>\n",
              "      <th>168030</th>\n",
              "      <td>2020</td>\n",
              "      <td>DEPT OF ED PEDAGOGICAL</td>\n",
              "      <td>12/31/9999</td>\n",
              "      <td>MANHATTAN</td>\n",
              "      <td>TEACHER</td>\n",
              "      <td>ACTIVE</td>\n",
              "      <td>124909.00</td>\n",
              "      <td>per Annum</td>\n",
              "      <td>0.0</td>\n",
              "      <td>122242.80</td>\n",
              "      <td>0.0</td>\n",
              "      <td>0.0</td>\n",
              "      <td>12876.50</td>\n",
              "    </tr>\n",
              "    <tr>\n",
              "      <th>168250</th>\n",
              "      <td>2020</td>\n",
              "      <td>DEPT OF ED PEDAGOGICAL</td>\n",
              "      <td>12/31/9999</td>\n",
              "      <td>MANHATTAN</td>\n",
              "      <td>TEACHER</td>\n",
              "      <td>ACTIVE</td>\n",
              "      <td>124909.00</td>\n",
              "      <td>per Annum</td>\n",
              "      <td>0.0</td>\n",
              "      <td>122242.80</td>\n",
              "      <td>0.0</td>\n",
              "      <td>0.0</td>\n",
              "      <td>12759.82</td>\n",
              "    </tr>\n",
              "    <tr>\n",
              "      <th>168674</th>\n",
              "      <td>2020</td>\n",
              "      <td>DEPT OF ED PEDAGOGICAL</td>\n",
              "      <td>12/31/9999</td>\n",
              "      <td>MANHATTAN</td>\n",
              "      <td>TEACHER</td>\n",
              "      <td>ACTIVE</td>\n",
              "      <td>124909.00</td>\n",
              "      <td>per Annum</td>\n",
              "      <td>0.0</td>\n",
              "      <td>122242.80</td>\n",
              "      <td>0.0</td>\n",
              "      <td>0.0</td>\n",
              "      <td>12536.04</td>\n",
              "    </tr>\n",
              "    <tr>\n",
              "      <th>...</th>\n",
              "      <td>...</td>\n",
              "      <td>...</td>\n",
              "      <td>...</td>\n",
              "      <td>...</td>\n",
              "      <td>...</td>\n",
              "      <td>...</td>\n",
              "      <td>...</td>\n",
              "      <td>...</td>\n",
              "      <td>...</td>\n",
              "      <td>...</td>\n",
              "      <td>...</td>\n",
              "      <td>...</td>\n",
              "      <td>...</td>\n",
              "    </tr>\n",
              "    <tr>\n",
              "      <th>4229761</th>\n",
              "      <td>2021</td>\n",
              "      <td>DEPT OF ED PARA PROFESSIONALS</td>\n",
              "      <td>12/31/9999</td>\n",
              "      <td>MANHATTAN</td>\n",
              "      <td>ANNUAL ED PARA</td>\n",
              "      <td>ACTIVE</td>\n",
              "      <td>35060.00</td>\n",
              "      <td>per Annum</td>\n",
              "      <td>0.0</td>\n",
              "      <td>34166.58</td>\n",
              "      <td>0.0</td>\n",
              "      <td>0.0</td>\n",
              "      <td>1891.84</td>\n",
              "    </tr>\n",
              "    <tr>\n",
              "      <th>4244083</th>\n",
              "      <td>2021</td>\n",
              "      <td>DEPT OF ED HRLY SUPPORT STAFF</td>\n",
              "      <td>12/31/9999</td>\n",
              "      <td>MANHATTAN</td>\n",
              "      <td>F/T SCHOOL AIDE</td>\n",
              "      <td>ACTIVE</td>\n",
              "      <td>17.04</td>\n",
              "      <td>per Hour</td>\n",
              "      <td>0.0</td>\n",
              "      <td>21309.88</td>\n",
              "      <td>0.0</td>\n",
              "      <td>0.0</td>\n",
              "      <td>8900.39</td>\n",
              "    </tr>\n",
              "    <tr>\n",
              "      <th>4271799</th>\n",
              "      <td>2021</td>\n",
              "      <td>DEPT OF ED HRLY SUPPORT STAFF</td>\n",
              "      <td>12/31/9999</td>\n",
              "      <td>MANHATTAN</td>\n",
              "      <td>F/T SCHOOL AIDE</td>\n",
              "      <td>ACTIVE</td>\n",
              "      <td>17.04</td>\n",
              "      <td>per Hour</td>\n",
              "      <td>0.0</td>\n",
              "      <td>14109.12</td>\n",
              "      <td>0.0</td>\n",
              "      <td>0.0</td>\n",
              "      <td>4764.70</td>\n",
              "    </tr>\n",
              "    <tr>\n",
              "      <th>4272592</th>\n",
              "      <td>2021</td>\n",
              "      <td>DEPT OF ED HRLY SUPPORT STAFF</td>\n",
              "      <td>12/31/9999</td>\n",
              "      <td>MANHATTAN</td>\n",
              "      <td>F/T SCHOOL AIDE</td>\n",
              "      <td>ACTIVE</td>\n",
              "      <td>17.04</td>\n",
              "      <td>per Hour</td>\n",
              "      <td>0.0</td>\n",
              "      <td>14040.96</td>\n",
              "      <td>0.0</td>\n",
              "      <td>0.0</td>\n",
              "      <td>4516.30</td>\n",
              "    </tr>\n",
              "    <tr>\n",
              "      <th>4295461</th>\n",
              "      <td>2021</td>\n",
              "      <td>DEPT OF ED PARA PROFESSIONALS</td>\n",
              "      <td>12/31/9999</td>\n",
              "      <td>MANHATTAN</td>\n",
              "      <td>SUBSTITUTE ED PARA</td>\n",
              "      <td>ACTIVE</td>\n",
              "      <td>166.67</td>\n",
              "      <td>per Day</td>\n",
              "      <td>0.0</td>\n",
              "      <td>8654.97</td>\n",
              "      <td>0.0</td>\n",
              "      <td>0.0</td>\n",
              "      <td>963.12</td>\n",
              "    </tr>\n",
              "  </tbody>\n",
              "</table>\n",
              "<p>413 rows × 13 columns</p>\n",
              "</div>"
            ],
            "text/plain": [
              "         Fiscal Year  ... Total Other Pay\n",
              "160553          2020  ...        36229.15\n",
              "167797          2020  ...        13012.34\n",
              "168030          2020  ...        12876.50\n",
              "168250          2020  ...        12759.82\n",
              "168674          2020  ...        12536.04\n",
              "...              ...  ...             ...\n",
              "4229761         2021  ...         1891.84\n",
              "4244083         2021  ...         8900.39\n",
              "4271799         2021  ...         4764.70\n",
              "4272592         2021  ...         4516.30\n",
              "4295461         2021  ...          963.12\n",
              "\n",
              "[413 rows x 13 columns]"
            ]
          },
          "metadata": {},
          "execution_count": 54
        }
      ]
    },
    {
      "cell_type": "markdown",
      "metadata": {
        "id": "DoWG5Y2tMZWU"
      },
      "source": [
        "There are 415 rows with the extreme date of '12/31/9999' that we will remove first. The reason for this is that if we try to convert these values to datetime, the api returns an out of bounds error."
      ]
    },
    {
      "cell_type": "code",
      "metadata": {
        "id": "20UP1lsxMbEL"
      },
      "source": [
        "# Filter out 415 rows where date is '12/31/9999'\n",
        "\n",
        "df = df[df['Agency Start Date'] != '12/31/9999']"
      ],
      "execution_count": 55,
      "outputs": []
    },
    {
      "cell_type": "code",
      "metadata": {
        "id": "T9W_F8o2MdQm",
        "colab": {
          "base_uri": "https://localhost:8080/"
        },
        "outputId": "65ef1111-25d5-4d4c-9577-05bfb6300077"
      },
      "source": [
        "df['Agency Start Date'].count()"
      ],
      "execution_count": 56,
      "outputs": [
        {
          "output_type": "execute_result",
          "data": {
            "text/plain": [
              "4338865"
            ]
          },
          "metadata": {},
          "execution_count": 56
        }
      ]
    },
    {
      "cell_type": "code",
      "metadata": {
        "id": "j0MyBM87Mexr",
        "colab": {
          "base_uri": "https://localhost:8080/"
        },
        "outputId": "96ee334c-52da-4541-f840-d87b3bb89f5b"
      },
      "source": [
        "df[df['Agency Start Date'] == ''].count()"
      ],
      "execution_count": 57,
      "outputs": [
        {
          "output_type": "execute_result",
          "data": {
            "text/plain": [
              "Fiscal Year                   63\n",
              "Agency Name                   63\n",
              "Agency Start Date             63\n",
              "Work Location Borough         63\n",
              "Title Description             63\n",
              "Leave Status as of June 30    63\n",
              "Base Salary                   63\n",
              "Pay Basis                     63\n",
              "Regular Hours                 63\n",
              "Regular Gross Paid            63\n",
              "OT Hours                      63\n",
              "Total OT Paid                 63\n",
              "Total Other Pay               63\n",
              "dtype: int64"
            ]
          },
          "metadata": {},
          "execution_count": 57
        }
      ]
    },
    {
      "cell_type": "markdown",
      "metadata": {
        "id": "8zoNpJrZMlhu"
      },
      "source": [
        "Note: there are 63 blank values for Agency Start Date. Converting to datetime format will take care of deleting them."
      ]
    },
    {
      "cell_type": "code",
      "metadata": {
        "id": "xBRazM3bMjZH"
      },
      "source": [
        "# convert column to datetime in format yyyy-mm-dd\n",
        "\n",
        "import pandas as pd\n",
        "\n",
        "df['Agency Start Date']= pd.to_datetime(df['Agency Start Date'])"
      ],
      "execution_count": 58,
      "outputs": []
    },
    {
      "cell_type": "code",
      "metadata": {
        "id": "7uZv0Mf5MpwU",
        "colab": {
          "base_uri": "https://localhost:8080/"
        },
        "outputId": "3b65b1cf-e0b3-4f17-c842-1236578bc7eb"
      },
      "source": [
        "df['Agency Start Date'].count()"
      ],
      "execution_count": 59,
      "outputs": [
        {
          "output_type": "execute_result",
          "data": {
            "text/plain": [
              "4338802"
            ]
          },
          "metadata": {},
          "execution_count": 59
        }
      ]
    },
    {
      "cell_type": "markdown",
      "metadata": {
        "id": "rPAHvf1SMuRp"
      },
      "source": [
        "Now lets find any future date by comparing all the Agency Start Dates to the report date (i.e. the date as of the report - 06/30/2021)"
      ]
    },
    {
      "cell_type": "code",
      "metadata": {
        "id": "P26saBGtMv1c"
      },
      "source": [
        "import datetime\n",
        "\n",
        "report_date = datetime.datetime(2021, 6, 30)"
      ],
      "execution_count": 60,
      "outputs": []
    },
    {
      "cell_type": "code",
      "metadata": {
        "id": "Bt_Sf0DkMxyp",
        "colab": {
          "base_uri": "https://localhost:8080/"
        },
        "outputId": "17c2e76f-0287-4ef7-d71e-60f637b3aa83"
      },
      "source": [
        "df[df['Agency Start Date'] > report_date].count()"
      ],
      "execution_count": 61,
      "outputs": [
        {
          "output_type": "execute_result",
          "data": {
            "text/plain": [
              "Fiscal Year                   3\n",
              "Agency Name                   3\n",
              "Agency Start Date             3\n",
              "Work Location Borough         3\n",
              "Title Description             3\n",
              "Leave Status as of June 30    3\n",
              "Base Salary                   3\n",
              "Pay Basis                     3\n",
              "Regular Hours                 3\n",
              "Regular Gross Paid            3\n",
              "OT Hours                      3\n",
              "Total OT Paid                 3\n",
              "Total Other Pay               3\n",
              "dtype: int64"
            ]
          },
          "metadata": {},
          "execution_count": 61
        }
      ]
    },
    {
      "cell_type": "markdown",
      "metadata": {
        "id": "K--L0o9XMzrR"
      },
      "source": [
        "There are 3 rows with future dates. We will remove them."
      ]
    },
    {
      "cell_type": "code",
      "metadata": {
        "id": "f98MDibWM1dZ"
      },
      "source": [
        "df = df[df['Agency Start Date'] <= report_date]"
      ],
      "execution_count": 62,
      "outputs": []
    },
    {
      "cell_type": "code",
      "metadata": {
        "id": "qkGuuqymM3Nz",
        "colab": {
          "base_uri": "https://localhost:8080/"
        },
        "outputId": "c647494c-8ba7-482f-a7dd-99c4ebb04e60"
      },
      "source": [
        "df['Agency Start Date'].count()"
      ],
      "execution_count": 63,
      "outputs": [
        {
          "output_type": "execute_result",
          "data": {
            "text/plain": [
              "4338799"
            ]
          },
          "metadata": {},
          "execution_count": 63
        }
      ]
    },
    {
      "cell_type": "markdown",
      "metadata": {
        "id": "df0e08flQ07B"
      },
      "source": [
        "Now let us examine very old dates. Retirement age in NYC is 62 years. If we assume minimum working age as 18, then a person can be working for at most 44 years. Since our dataset includes fiscal data only started form 2014, then lets see how many records have data before 2014- - 44 = 1970"
      ]
    },
    {
      "cell_type": "code",
      "metadata": {
        "id": "I9VqSQhmQ4DK"
      },
      "source": [
        "min_date = datetime.datetime(1970, 6, 30)"
      ],
      "execution_count": 64,
      "outputs": []
    },
    {
      "cell_type": "code",
      "metadata": {
        "id": "lI9EHJ7nQ6Ch",
        "colab": {
          "base_uri": "https://localhost:8080/"
        },
        "outputId": "8647241a-1ef0-4f01-f31c-66141616e168"
      },
      "source": [
        "df[df['Agency Start Date'] < min_date].count()"
      ],
      "execution_count": 65,
      "outputs": [
        {
          "output_type": "execute_result",
          "data": {
            "text/plain": [
              "Fiscal Year                   8721\n",
              "Agency Name                   8721\n",
              "Agency Start Date             8721\n",
              "Work Location Borough         8721\n",
              "Title Description             8721\n",
              "Leave Status as of June 30    8721\n",
              "Base Salary                   8721\n",
              "Pay Basis                     8721\n",
              "Regular Hours                 8721\n",
              "Regular Gross Paid            8721\n",
              "OT Hours                      8721\n",
              "Total OT Paid                 8721\n",
              "Total Other Pay               8721\n",
              "dtype: int64"
            ]
          },
          "metadata": {},
          "execution_count": 65
        }
      ]
    },
    {
      "cell_type": "code",
      "metadata": {
        "id": "8kTeoSHFQ8DD",
        "colab": {
          "base_uri": "https://localhost:8080/",
          "height": 786
        },
        "outputId": "083cf490-ba6e-41ed-daca-8a64772f2586"
      },
      "source": [
        "df[df['Agency Start Date'] < min_date]"
      ],
      "execution_count": 66,
      "outputs": [
        {
          "output_type": "execute_result",
          "data": {
            "text/html": [
              "<div>\n",
              "<style scoped>\n",
              "    .dataframe tbody tr th:only-of-type {\n",
              "        vertical-align: middle;\n",
              "    }\n",
              "\n",
              "    .dataframe tbody tr th {\n",
              "        vertical-align: top;\n",
              "    }\n",
              "\n",
              "    .dataframe thead th {\n",
              "        text-align: right;\n",
              "    }\n",
              "</style>\n",
              "<table border=\"1\" class=\"dataframe\">\n",
              "  <thead>\n",
              "    <tr style=\"text-align: right;\">\n",
              "      <th></th>\n",
              "      <th>Fiscal Year</th>\n",
              "      <th>Agency Name</th>\n",
              "      <th>Agency Start Date</th>\n",
              "      <th>Work Location Borough</th>\n",
              "      <th>Title Description</th>\n",
              "      <th>Leave Status as of June 30</th>\n",
              "      <th>Base Salary</th>\n",
              "      <th>Pay Basis</th>\n",
              "      <th>Regular Hours</th>\n",
              "      <th>Regular Gross Paid</th>\n",
              "      <th>OT Hours</th>\n",
              "      <th>Total OT Paid</th>\n",
              "      <th>Total Other Pay</th>\n",
              "    </tr>\n",
              "  </thead>\n",
              "  <tbody>\n",
              "    <tr>\n",
              "      <th>289</th>\n",
              "      <td>2020</td>\n",
              "      <td>OFFICE OF MANAGEMENT &amp; BUDGET</td>\n",
              "      <td>1969-05-19</td>\n",
              "      <td>MANHATTAN</td>\n",
              "      <td>COMPUTER SPECIALIST</td>\n",
              "      <td>ACTIVE</td>\n",
              "      <td>82234.00</td>\n",
              "      <td>per Annum</td>\n",
              "      <td>1820.00</td>\n",
              "      <td>80971.40</td>\n",
              "      <td>0.0</td>\n",
              "      <td>0.0</td>\n",
              "      <td>4820.35</td>\n",
              "    </tr>\n",
              "    <tr>\n",
              "      <th>2687</th>\n",
              "      <td>2020</td>\n",
              "      <td>LAW DEPARTMENT</td>\n",
              "      <td>1969-03-10</td>\n",
              "      <td>MANHATTAN</td>\n",
              "      <td>CLERICAL ASSOCIATE</td>\n",
              "      <td>CEASED</td>\n",
              "      <td>41544.00</td>\n",
              "      <td>per Annum</td>\n",
              "      <td>607.03</td>\n",
              "      <td>13782.69</td>\n",
              "      <td>0.0</td>\n",
              "      <td>0.0</td>\n",
              "      <td>1642.20</td>\n",
              "    </tr>\n",
              "    <tr>\n",
              "      <th>4806</th>\n",
              "      <td>2020</td>\n",
              "      <td>POLICE DEPARTMENT</td>\n",
              "      <td>1962-04-27</td>\n",
              "      <td>MANHATTAN</td>\n",
              "      <td>EXECUTIVE AGENCY COUNSEL</td>\n",
              "      <td>ACTIVE</td>\n",
              "      <td>241116.00</td>\n",
              "      <td>per Annum</td>\n",
              "      <td>1820.00</td>\n",
              "      <td>237995.93</td>\n",
              "      <td>0.0</td>\n",
              "      <td>0.0</td>\n",
              "      <td>0.00</td>\n",
              "    </tr>\n",
              "    <tr>\n",
              "      <th>7565</th>\n",
              "      <td>2020</td>\n",
              "      <td>POLICE DEPARTMENT</td>\n",
              "      <td>1970-04-17</td>\n",
              "      <td>QUEENS</td>\n",
              "      <td>SURGEON DETAILED AS DEPUTY CHIEF SURGEON</td>\n",
              "      <td>ACTIVE</td>\n",
              "      <td>162293.00</td>\n",
              "      <td>per Annum</td>\n",
              "      <td>2080.00</td>\n",
              "      <td>158536.69</td>\n",
              "      <td>0.0</td>\n",
              "      <td>0.0</td>\n",
              "      <td>16772.36</td>\n",
              "    </tr>\n",
              "    <tr>\n",
              "      <th>35811</th>\n",
              "      <td>2020</td>\n",
              "      <td>POLICE DEPARTMENT</td>\n",
              "      <td>1966-12-16</td>\n",
              "      <td>MANHATTAN</td>\n",
              "      <td>CHAPLAIN</td>\n",
              "      <td>ACTIVE</td>\n",
              "      <td>72623.00</td>\n",
              "      <td>per Annum</td>\n",
              "      <td>2080.00</td>\n",
              "      <td>71499.86</td>\n",
              "      <td>0.0</td>\n",
              "      <td>0.0</td>\n",
              "      <td>6390.75</td>\n",
              "    </tr>\n",
              "    <tr>\n",
              "      <th>...</th>\n",
              "      <td>...</td>\n",
              "      <td>...</td>\n",
              "      <td>...</td>\n",
              "      <td>...</td>\n",
              "      <td>...</td>\n",
              "      <td>...</td>\n",
              "      <td>...</td>\n",
              "      <td>...</td>\n",
              "      <td>...</td>\n",
              "      <td>...</td>\n",
              "      <td>...</td>\n",
              "      <td>...</td>\n",
              "      <td>...</td>\n",
              "    </tr>\n",
              "    <tr>\n",
              "      <th>4492286</th>\n",
              "      <td>2021</td>\n",
              "      <td>DEPT OF ED PER SESSION TEACHER</td>\n",
              "      <td>1968-10-03</td>\n",
              "      <td>MANHATTAN</td>\n",
              "      <td>TEACHER- PER SESSION</td>\n",
              "      <td>CEASED</td>\n",
              "      <td>33.18</td>\n",
              "      <td>per Day</td>\n",
              "      <td>0.00</td>\n",
              "      <td>0.00</td>\n",
              "      <td>0.0</td>\n",
              "      <td>0.0</td>\n",
              "      <td>0.32</td>\n",
              "    </tr>\n",
              "    <tr>\n",
              "      <th>4492299</th>\n",
              "      <td>2021</td>\n",
              "      <td>DEPT OF ED PER SESSION TEACHER</td>\n",
              "      <td>1970-03-10</td>\n",
              "      <td>MANHATTAN</td>\n",
              "      <td>TEACHER- PER SESSION</td>\n",
              "      <td>ACTIVE</td>\n",
              "      <td>33.18</td>\n",
              "      <td>per Day</td>\n",
              "      <td>0.00</td>\n",
              "      <td>0.00</td>\n",
              "      <td>0.0</td>\n",
              "      <td>0.0</td>\n",
              "      <td>0.32</td>\n",
              "    </tr>\n",
              "    <tr>\n",
              "      <th>4492469</th>\n",
              "      <td>2021</td>\n",
              "      <td>DEPT OF ED PER SESSION TEACHER</td>\n",
              "      <td>1968-09-06</td>\n",
              "      <td>MANHATTAN</td>\n",
              "      <td>TEACHER- PER SESSION</td>\n",
              "      <td>CEASED</td>\n",
              "      <td>33.18</td>\n",
              "      <td>per Day</td>\n",
              "      <td>0.00</td>\n",
              "      <td>0.00</td>\n",
              "      <td>0.0</td>\n",
              "      <td>0.0</td>\n",
              "      <td>0.26</td>\n",
              "    </tr>\n",
              "    <tr>\n",
              "      <th>4492685</th>\n",
              "      <td>2021</td>\n",
              "      <td>DEPT OF ED PER SESSION TEACHER</td>\n",
              "      <td>1967-09-08</td>\n",
              "      <td>MANHATTAN</td>\n",
              "      <td>TEACHER- PER SESSION</td>\n",
              "      <td>CEASED</td>\n",
              "      <td>33.18</td>\n",
              "      <td>per Day</td>\n",
              "      <td>0.00</td>\n",
              "      <td>0.00</td>\n",
              "      <td>0.0</td>\n",
              "      <td>0.0</td>\n",
              "      <td>0.15</td>\n",
              "    </tr>\n",
              "    <tr>\n",
              "      <th>4492774</th>\n",
              "      <td>2021</td>\n",
              "      <td>DEPT OF ED PER SESSION TEACHER</td>\n",
              "      <td>1966-02-01</td>\n",
              "      <td>MANHATTAN</td>\n",
              "      <td>TEACHER- PER SESSION</td>\n",
              "      <td>CEASED</td>\n",
              "      <td>33.18</td>\n",
              "      <td>per Day</td>\n",
              "      <td>0.00</td>\n",
              "      <td>0.00</td>\n",
              "      <td>0.0</td>\n",
              "      <td>0.0</td>\n",
              "      <td>0.09</td>\n",
              "    </tr>\n",
              "  </tbody>\n",
              "</table>\n",
              "<p>8721 rows × 13 columns</p>\n",
              "</div>"
            ],
            "text/plain": [
              "         Fiscal Year  ... Total Other Pay\n",
              "289             2020  ...         4820.35\n",
              "2687            2020  ...         1642.20\n",
              "4806            2020  ...            0.00\n",
              "7565            2020  ...        16772.36\n",
              "35811           2020  ...         6390.75\n",
              "...              ...  ...             ...\n",
              "4492286         2021  ...            0.32\n",
              "4492299         2021  ...            0.32\n",
              "4492469         2021  ...            0.26\n",
              "4492685         2021  ...            0.15\n",
              "4492774         2021  ...            0.09\n",
              "\n",
              "[8721 rows x 13 columns]"
            ]
          },
          "metadata": {},
          "execution_count": 66
        }
      ]
    },
    {
      "cell_type": "markdown",
      "metadata": {
        "id": "YGsgCNt7RBEt"
      },
      "source": [
        "This gives us 8741 rows. We will assume a buffer of 5 years and remove any rows older than 1970 - 5 = 1965"
      ]
    },
    {
      "cell_type": "code",
      "metadata": {
        "id": "01k_cH2TRDDM"
      },
      "source": [
        "min_date = datetime.datetime(1965, 6, 30)"
      ],
      "execution_count": 67,
      "outputs": []
    },
    {
      "cell_type": "code",
      "metadata": {
        "id": "aJ4_-NtVREGg",
        "colab": {
          "base_uri": "https://localhost:8080/"
        },
        "outputId": "353922e6-6e54-473b-e11c-30a500c5b76f"
      },
      "source": [
        "df[df['Agency Start Date'] < min_date].count()"
      ],
      "execution_count": 68,
      "outputs": [
        {
          "output_type": "execute_result",
          "data": {
            "text/plain": [
              "Fiscal Year                   1711\n",
              "Agency Name                   1711\n",
              "Agency Start Date             1711\n",
              "Work Location Borough         1711\n",
              "Title Description             1711\n",
              "Leave Status as of June 30    1711\n",
              "Base Salary                   1711\n",
              "Pay Basis                     1711\n",
              "Regular Hours                 1711\n",
              "Regular Gross Paid            1711\n",
              "OT Hours                      1711\n",
              "Total OT Paid                 1711\n",
              "Total Other Pay               1711\n",
              "dtype: int64"
            ]
          },
          "metadata": {},
          "execution_count": 68
        }
      ]
    },
    {
      "cell_type": "code",
      "metadata": {
        "id": "-8nezNX2RFJU",
        "colab": {
          "base_uri": "https://localhost:8080/",
          "height": 803
        },
        "outputId": "5e153ea3-711d-45ea-f6c4-11cb431e1f4e"
      },
      "source": [
        "df[df['Agency Start Date'] < min_date]"
      ],
      "execution_count": 69,
      "outputs": [
        {
          "output_type": "execute_result",
          "data": {
            "text/html": [
              "<div>\n",
              "<style scoped>\n",
              "    .dataframe tbody tr th:only-of-type {\n",
              "        vertical-align: middle;\n",
              "    }\n",
              "\n",
              "    .dataframe tbody tr th {\n",
              "        vertical-align: top;\n",
              "    }\n",
              "\n",
              "    .dataframe thead th {\n",
              "        text-align: right;\n",
              "    }\n",
              "</style>\n",
              "<table border=\"1\" class=\"dataframe\">\n",
              "  <thead>\n",
              "    <tr style=\"text-align: right;\">\n",
              "      <th></th>\n",
              "      <th>Fiscal Year</th>\n",
              "      <th>Agency Name</th>\n",
              "      <th>Agency Start Date</th>\n",
              "      <th>Work Location Borough</th>\n",
              "      <th>Title Description</th>\n",
              "      <th>Leave Status as of June 30</th>\n",
              "      <th>Base Salary</th>\n",
              "      <th>Pay Basis</th>\n",
              "      <th>Regular Hours</th>\n",
              "      <th>Regular Gross Paid</th>\n",
              "      <th>OT Hours</th>\n",
              "      <th>Total OT Paid</th>\n",
              "      <th>Total Other Pay</th>\n",
              "    </tr>\n",
              "  </thead>\n",
              "  <tbody>\n",
              "    <tr>\n",
              "      <th>4806</th>\n",
              "      <td>2020</td>\n",
              "      <td>POLICE DEPARTMENT</td>\n",
              "      <td>1962-04-27</td>\n",
              "      <td>MANHATTAN</td>\n",
              "      <td>EXECUTIVE AGENCY COUNSEL</td>\n",
              "      <td>ACTIVE</td>\n",
              "      <td>241116.00</td>\n",
              "      <td>per Annum</td>\n",
              "      <td>1820.0</td>\n",
              "      <td>237995.93</td>\n",
              "      <td>0.0</td>\n",
              "      <td>0.0</td>\n",
              "      <td>0.00</td>\n",
              "    </tr>\n",
              "    <tr>\n",
              "      <th>94931</th>\n",
              "      <td>2020</td>\n",
              "      <td>HRA/DEPT OF SOCIAL SERVICES</td>\n",
              "      <td>1962-04-02</td>\n",
              "      <td>BROOKLYN</td>\n",
              "      <td>ADMIN JOB OPPORTUNITY SPEC NM</td>\n",
              "      <td>ACTIVE</td>\n",
              "      <td>81765.00</td>\n",
              "      <td>per Annum</td>\n",
              "      <td>1820.0</td>\n",
              "      <td>83356.85</td>\n",
              "      <td>0.0</td>\n",
              "      <td>0.0</td>\n",
              "      <td>4219.81</td>\n",
              "    </tr>\n",
              "    <tr>\n",
              "      <th>95663</th>\n",
              "      <td>2020</td>\n",
              "      <td>HRA/DEPT OF SOCIAL SERVICES</td>\n",
              "      <td>1963-09-16</td>\n",
              "      <td>MANHATTAN</td>\n",
              "      <td>SUPERVISOR I</td>\n",
              "      <td>ACTIVE</td>\n",
              "      <td>73524.00</td>\n",
              "      <td>per Annum</td>\n",
              "      <td>1820.0</td>\n",
              "      <td>72387.03</td>\n",
              "      <td>0.0</td>\n",
              "      <td>0.0</td>\n",
              "      <td>8570.99</td>\n",
              "    </tr>\n",
              "    <tr>\n",
              "      <th>96713</th>\n",
              "      <td>2020</td>\n",
              "      <td>HRA/DEPT OF SOCIAL SERVICES</td>\n",
              "      <td>1957-10-21</td>\n",
              "      <td>BROOKLYN</td>\n",
              "      <td>STAFF ANALYST</td>\n",
              "      <td>ACTIVE</td>\n",
              "      <td>67814.00</td>\n",
              "      <td>per Annum</td>\n",
              "      <td>1820.0</td>\n",
              "      <td>67447.53</td>\n",
              "      <td>0.0</td>\n",
              "      <td>0.0</td>\n",
              "      <td>5445.70</td>\n",
              "    </tr>\n",
              "    <tr>\n",
              "      <th>96942</th>\n",
              "      <td>2020</td>\n",
              "      <td>HRA/DEPT OF SOCIAL SERVICES</td>\n",
              "      <td>1963-10-07</td>\n",
              "      <td>MANHATTAN</td>\n",
              "      <td>ADMINISTRATIVE DIRECTOR OF SOCIAL SERVICES</td>\n",
              "      <td>CEASED</td>\n",
              "      <td>103509.00</td>\n",
              "      <td>per Annum</td>\n",
              "      <td>0.0</td>\n",
              "      <td>0.00</td>\n",
              "      <td>0.0</td>\n",
              "      <td>0.0</td>\n",
              "      <td>71334.60</td>\n",
              "    </tr>\n",
              "    <tr>\n",
              "      <th>...</th>\n",
              "      <td>...</td>\n",
              "      <td>...</td>\n",
              "      <td>...</td>\n",
              "      <td>...</td>\n",
              "      <td>...</td>\n",
              "      <td>...</td>\n",
              "      <td>...</td>\n",
              "      <td>...</td>\n",
              "      <td>...</td>\n",
              "      <td>...</td>\n",
              "      <td>...</td>\n",
              "      <td>...</td>\n",
              "      <td>...</td>\n",
              "    </tr>\n",
              "    <tr>\n",
              "      <th>4484897</th>\n",
              "      <td>2021</td>\n",
              "      <td>DEPT OF ED PER SESSION TEACHER</td>\n",
              "      <td>1956-09-07</td>\n",
              "      <td>MANHATTAN</td>\n",
              "      <td>TEACHER- PER SESSION</td>\n",
              "      <td>CEASED</td>\n",
              "      <td>34.78</td>\n",
              "      <td>per Day</td>\n",
              "      <td>0.0</td>\n",
              "      <td>5.56</td>\n",
              "      <td>0.0</td>\n",
              "      <td>0.0</td>\n",
              "      <td>0.00</td>\n",
              "    </tr>\n",
              "    <tr>\n",
              "      <th>4485563</th>\n",
              "      <td>2021</td>\n",
              "      <td>DEPT OF ED PER SESSION TEACHER</td>\n",
              "      <td>1964-02-17</td>\n",
              "      <td>MANHATTAN</td>\n",
              "      <td>TEACHER- PER SESSION</td>\n",
              "      <td>CEASED</td>\n",
              "      <td>33.18</td>\n",
              "      <td>per Day</td>\n",
              "      <td>0.0</td>\n",
              "      <td>0.00</td>\n",
              "      <td>0.0</td>\n",
              "      <td>0.0</td>\n",
              "      <td>4.80</td>\n",
              "    </tr>\n",
              "    <tr>\n",
              "      <th>4488301</th>\n",
              "      <td>2021</td>\n",
              "      <td>DEPT OF ED PER SESSION TEACHER</td>\n",
              "      <td>1961-09-05</td>\n",
              "      <td>MANHATTAN</td>\n",
              "      <td>TEACHER- PER SESSION</td>\n",
              "      <td>CEASED</td>\n",
              "      <td>33.18</td>\n",
              "      <td>per Day</td>\n",
              "      <td>0.0</td>\n",
              "      <td>0.00</td>\n",
              "      <td>0.0</td>\n",
              "      <td>0.0</td>\n",
              "      <td>2.57</td>\n",
              "    </tr>\n",
              "    <tr>\n",
              "      <th>4488706</th>\n",
              "      <td>2021</td>\n",
              "      <td>DEPT OF ED PER SESSION TEACHER</td>\n",
              "      <td>1960-02-01</td>\n",
              "      <td>MANHATTAN</td>\n",
              "      <td>TEACHER- PER SESSION</td>\n",
              "      <td>CEASED</td>\n",
              "      <td>33.18</td>\n",
              "      <td>per Day</td>\n",
              "      <td>0.0</td>\n",
              "      <td>0.00</td>\n",
              "      <td>0.0</td>\n",
              "      <td>0.0</td>\n",
              "      <td>2.20</td>\n",
              "    </tr>\n",
              "    <tr>\n",
              "      <th>4489046</th>\n",
              "      <td>2021</td>\n",
              "      <td>DEPT OF ED PER SESSION TEACHER</td>\n",
              "      <td>1961-09-01</td>\n",
              "      <td>MANHATTAN</td>\n",
              "      <td>TEACHER- PER SESSION</td>\n",
              "      <td>CEASED</td>\n",
              "      <td>33.18</td>\n",
              "      <td>per Day</td>\n",
              "      <td>0.0</td>\n",
              "      <td>0.00</td>\n",
              "      <td>0.0</td>\n",
              "      <td>0.0</td>\n",
              "      <td>1.97</td>\n",
              "    </tr>\n",
              "  </tbody>\n",
              "</table>\n",
              "<p>1711 rows × 13 columns</p>\n",
              "</div>"
            ],
            "text/plain": [
              "         Fiscal Year  ... Total Other Pay\n",
              "4806            2020  ...            0.00\n",
              "94931           2020  ...         4219.81\n",
              "95663           2020  ...         8570.99\n",
              "96713           2020  ...         5445.70\n",
              "96942           2020  ...        71334.60\n",
              "...              ...  ...             ...\n",
              "4484897         2021  ...            0.00\n",
              "4485563         2021  ...            4.80\n",
              "4488301         2021  ...            2.57\n",
              "4488706         2021  ...            2.20\n",
              "4489046         2021  ...            1.97\n",
              "\n",
              "[1711 rows x 13 columns]"
            ]
          },
          "metadata": {},
          "execution_count": 69
        }
      ]
    },
    {
      "cell_type": "code",
      "metadata": {
        "id": "thea5cLNRG9N",
        "colab": {
          "base_uri": "https://localhost:8080/"
        },
        "outputId": "a6032982-5f16-464b-8cc1-5afcdb6b7e43"
      },
      "source": [
        "df['Agency Start Date'].count()"
      ],
      "execution_count": 70,
      "outputs": [
        {
          "output_type": "execute_result",
          "data": {
            "text/plain": [
              "4338799"
            ]
          },
          "metadata": {},
          "execution_count": 70
        }
      ]
    },
    {
      "cell_type": "markdown",
      "metadata": {
        "id": "pblC1b1QCWJy"
      },
      "source": [
        "## Fix Title Descriptions "
      ]
    },
    {
      "cell_type": "code",
      "metadata": {
        "id": "u53KwvMiCbuk"
      },
      "source": [
        "df = update(df, columns='Title Description', func=lambda title:title.strip(\"?*- \").upper())"
      ],
      "execution_count": 71,
      "outputs": []
    },
    {
      "cell_type": "code",
      "metadata": {
        "id": "fPpjPnc8Fk4w",
        "colab": {
          "base_uri": "https://localhost:8080/"
        },
        "outputId": "f256c973-7c58-45d4-dacb-4ec93c2ad387"
      },
      "source": [
        "df.shape"
      ],
      "execution_count": 72,
      "outputs": [
        {
          "output_type": "execute_result",
          "data": {
            "text/plain": [
              "(4338799, 13)"
            ]
          },
          "metadata": {},
          "execution_count": 72
        }
      ]
    },
    {
      "cell_type": "code",
      "metadata": {
        "id": "RPbWSaybFnQc",
        "colab": {
          "base_uri": "https://localhost:8080/"
        },
        "outputId": "7e335661-c931-412b-e3f6-d347370034c1"
      },
      "source": [
        "titles = df['Title Description'].unique()\n",
        "len(titles)\n"
      ],
      "execution_count": 73,
      "outputs": [
        {
          "output_type": "execute_result",
          "data": {
            "text/plain": [
              "1769"
            ]
          },
          "metadata": {},
          "execution_count": 73
        }
      ]
    },
    {
      "cell_type": "code",
      "metadata": {
        "id": "moNkdPpWIRNK"
      },
      "source": [
        "def fixTitles(title):\n",
        "  if title == 'SERGEANTD/A SPECIAL ASSIGNMENT' or title == 'SERGEANT-D/A SPECIAL ASSIGNMENT':\n",
        "    return 'SERGEANT D/A SPECIAL ASSIGNMENT'\n",
        "  elif title == 'ASSISTANT DEPUTY COMMISSIONER':\n",
        "        return 'DEPUTY ASSISTANT COMMISSIONER'\n",
        "  elif title == 'CASE - MANAGEMENT NURSE':\n",
        "        return 'CASE MANAGEMENT NURSE'\n",
        "  elif title == 'SERGEANTD/A SUPERVISOR DETECTIVE SQUAD':\n",
        "        return 'SERGEANT-D/A SUPERVISOR DETECTIVE SQUAD'\n",
        "  elif title == 'ELECTRICIANS HELPER':\n",
        "        return 'ELECTRICIAN\\'S HELPER'\n",
        "  elif title == 'GENERAL INSPECTOR':\n",
        "        return 'INSPECTOR GENERAL'\n",
        "  else:\n",
        "    return title"
      ],
      "execution_count": 74,
      "outputs": []
    },
    {
      "cell_type": "code",
      "metadata": {
        "id": "BZyW6URUIT0v"
      },
      "source": [
        "df = update(df, columns='Title Description', func=fixTitles)"
      ],
      "execution_count": 75,
      "outputs": []
    },
    {
      "cell_type": "code",
      "metadata": {
        "id": "FQpJTK3ZPB4f",
        "colab": {
          "base_uri": "https://localhost:8080/"
        },
        "outputId": "6335c3b5-0a27-4fab-df8f-2c90fe28110e"
      },
      "source": [
        "df.shape"
      ],
      "execution_count": 76,
      "outputs": [
        {
          "output_type": "execute_result",
          "data": {
            "text/plain": [
              "(4338799, 13)"
            ]
          },
          "metadata": {},
          "execution_count": 76
        }
      ]
    },
    {
      "cell_type": "code",
      "metadata": {
        "id": "g_IfY5R6PvCT",
        "colab": {
          "base_uri": "https://localhost:8080/"
        },
        "outputId": "d960d851-1c57-49e2-a786-622647e8da68"
      },
      "source": [
        "titles = df['Title Description'].unique()\n",
        "len(titles)"
      ],
      "execution_count": 77,
      "outputs": [
        {
          "output_type": "execute_result",
          "data": {
            "text/plain": [
              "1762"
            ]
          },
          "metadata": {},
          "execution_count": 77
        }
      ]
    },
    {
      "cell_type": "markdown",
      "metadata": {
        "id": "UkH_wHheWr_F"
      },
      "source": [
        "## Save Final Output"
      ]
    },
    {
      "cell_type": "code",
      "metadata": {
        "id": "gXRYhG6DXAUJ",
        "colab": {
          "base_uri": "https://localhost:8080/"
        },
        "outputId": "32d3dc50-df8f-4375-9425-b61d9596b1e7"
      },
      "source": [
        "# check final count\n",
        "\n",
        "df.count"
      ],
      "execution_count": 78,
      "outputs": [
        {
          "output_type": "execute_result",
          "data": {
            "text/plain": [
              "<bound method DataFrame.count of         Fiscal Year  ... Total Other Pay\n",
              "0              2020  ...               0\n",
              "1              2020  ...               0\n",
              "2              2020  ...               0\n",
              "3              2020  ...               0\n",
              "4              2020  ...               0\n",
              "...             ...  ...             ...\n",
              "4493888        2021  ...               0\n",
              "4493890        2021  ...               0\n",
              "4493927        2021  ...               0\n",
              "4493982        2021  ...               0\n",
              "4493984        2021  ...               0\n",
              "\n",
              "[4338799 rows x 13 columns]>"
            ]
          },
          "metadata": {},
          "execution_count": 78
        }
      ]
    },
    {
      "cell_type": "markdown",
      "metadata": {
        "id": "B9muMwEDYeXZ"
      },
      "source": [
        "We have finally removed approx 157,000 rows which represents approx 3% of the original data."
      ]
    },
    {
      "cell_type": "code",
      "metadata": {
        "id": "5NGTVdFKWu_B"
      },
      "source": [
        "df.to_csv('DataCleaningOutput.csv')"
      ],
      "execution_count": 79,
      "outputs": []
    }
  ]
}